{
 "cells": [
  {
   "cell_type": "markdown",
   "metadata": {},
   "source": [
    "# Библиотека numpy"
   ]
  },
  {
   "cell_type": "markdown",
   "metadata": {},
   "source": [
    "**NumPy** — это библиотека языка Python, добавляющая поддержку больших многомерных массивов и матриц, вместе с большой библиотекой высокоуровневых (и очень быстрых) математических функций для операций с этими массивами."
   ]
  },
  {
   "cell_type": "markdown",
   "metadata": {},
   "source": [
    "Основным объектом NumPy является однородный многомерный массив (в numpy называется numpy.ndarray). Это многомерный массив элементов (обычно чисел), одного типа.\n",
    "\n",
    "Наиболее важные атрибуты объектов ndarray:\n",
    "\n",
    "**ndarray.ndim** - число измерений (чаще их называют \"оси\") массива.\n",
    "\n",
    "**ndarray.shape** - размеры массива, его форма. Это кортеж натуральных чисел, показывающий длину массива по каждой оси. Для матрицы из n строк и m столбов, shape будет (n,m). Число элементов кортежа shape равно ndim.\n",
    "\n",
    "**ndarray.size** - количество элементов массива. Очевидно, равно произведению всех элементов атрибута shape.\n",
    "\n",
    "**ndarray.dtype** - объект, описывающий тип элементов массива. Можно определить dtype, используя стандартные типы данных Python. NumPy здесь предоставляет целый букет возможностей, как встроенных, например: bool_, character, int8, int16, int32, int64, float8, float16, float32, float64, complex64, object_, так и возможность определить собственные типы данных, в том числе и составные.\n",
    "\n",
    "**ndarray.itemsize** - размер каждого элемента массива в байтах."
   ]
  },
  {
   "cell_type": "markdown",
   "metadata": {},
   "source": [
    "# Создание массивов"
   ]
  },
  {
   "cell_type": "markdown",
   "metadata": {},
   "source": [
    "В NumPy существует много способов создать массив. Один из наиболее простых - создать массив из обычных списков или кортежей Python, используя функцию numpy.array() (запомните: array - функция, создающая объект типа ndarray):"
   ]
  },
  {
   "cell_type": "code",
   "execution_count": 1,
   "metadata": {},
   "outputs": [
    {
     "data": {
      "text/plain": [
       "array([1, 2, 3])"
      ]
     },
     "execution_count": 1,
     "metadata": {},
     "output_type": "execute_result"
    }
   ],
   "source": [
    "import numpy as np\n",
    "\n",
    "a = np.array([1, 2, 3])\n",
    "a"
   ]
  },
  {
   "cell_type": "code",
   "execution_count": null,
   "metadata": {},
   "outputs": [],
   "source": [
    "type(a)"
   ]
  },
  {
   "cell_type": "markdown",
   "metadata": {},
   "source": [
    "Функция array() трансформирует вложенные последовательности в многомерные массивы. Тип элементов массива зависит от типа элементов исходной последовательности (но можно и переопределить его в момент создания)."
   ]
  },
  {
   "cell_type": "code",
   "execution_count": 2,
   "metadata": {},
   "outputs": [
    {
     "data": {
      "text/plain": [
       "array([[1.5, 2. , 3. ],\n",
       "       [4. , 5. , 6. ]])"
      ]
     },
     "execution_count": 2,
     "metadata": {},
     "output_type": "execute_result"
    }
   ],
   "source": [
    "b = np.array([[1.5, 2, 3], [4, 5, 6]])\n",
    "b"
   ]
  },
  {
   "cell_type": "markdown",
   "metadata": {},
   "source": [
    "Можно также переопределить тип в момент создания:"
   ]
  },
  {
   "cell_type": "code",
   "execution_count": 3,
   "metadata": {},
   "outputs": [
    {
     "name": "stderr",
     "output_type": "stream",
     "text": [
      "/tmp/ipykernel_6130/2311286893.py:1: DeprecationWarning: `np.complex` is a deprecated alias for the builtin `complex`. To silence this warning, use `complex` by itself. Doing this will not modify any behavior and is safe. If you specifically wanted the numpy scalar type, use `np.complex128` here.\n",
      "Deprecated in NumPy 1.20; for more details and guidance: https://numpy.org/devdocs/release/1.20.0-notes.html#deprecations\n",
      "  b = np.array([[1.5, 2, 3], [4, 5, 6]], dtype=np.complex)\n"
     ]
    },
    {
     "data": {
      "text/plain": [
       "array([[1.5+0.j, 2. +0.j, 3. +0.j],\n",
       "       [4. +0.j, 5. +0.j, 6. +0.j]])"
      ]
     },
     "execution_count": 3,
     "metadata": {},
     "output_type": "execute_result"
    }
   ],
   "source": [
    "b = np.array([[1.5, 2, 3], [4, 5, 6]], dtype=np.complex)\n",
    "b"
   ]
  },
  {
   "cell_type": "markdown",
   "metadata": {},
   "source": [
    "Функция array() не единственная функция для создания массивов. Обычно элементы массива вначале неизвестны, а массив, в котором они будут храниться, уже нужен. Поэтому имеется несколько функций для того, чтобы создавать массивы с каким-то исходным содержимым (по умолчанию тип создаваемого массива — float64).\n",
    "\n",
    "Функция zeros() создает массив из нулей, а функция ones() — массив из единиц. Обе функции принимают кортеж с размерами, и аргумент dtype:"
   ]
  },
  {
   "cell_type": "code",
   "execution_count": 4,
   "metadata": {},
   "outputs": [
    {
     "data": {
      "text/plain": [
       "array([[0., 0., 0., 0., 0.],\n",
       "       [0., 0., 0., 0., 0.],\n",
       "       [0., 0., 0., 0., 0.]])"
      ]
     },
     "execution_count": 4,
     "metadata": {},
     "output_type": "execute_result"
    }
   ],
   "source": [
    "a = np.zeros((3, 5))\n",
    "a"
   ]
  },
  {
   "cell_type": "code",
   "execution_count": 5,
   "metadata": {},
   "outputs": [
    {
     "data": {
      "text/plain": [
       "array([[[1., 1.],\n",
       "        [1., 1.]],\n",
       "\n",
       "       [[1., 1.],\n",
       "        [1., 1.]]])"
      ]
     },
     "execution_count": 5,
     "metadata": {},
     "output_type": "execute_result"
    }
   ],
   "source": [
    "a = np.ones((2, 2, 2))\n",
    "a"
   ]
  },
  {
   "cell_type": "markdown",
   "metadata": {},
   "source": [
    "Функция eye() создаёт единичную матрицу (двумерный массив)"
   ]
  },
  {
   "cell_type": "code",
   "execution_count": 6,
   "metadata": {},
   "outputs": [
    {
     "data": {
      "text/plain": [
       "array([[1., 0., 0., 0., 0.],\n",
       "       [0., 1., 0., 0., 0.],\n",
       "       [0., 0., 1., 0., 0.],\n",
       "       [0., 0., 0., 1., 0.],\n",
       "       [0., 0., 0., 0., 1.]])"
      ]
     },
     "execution_count": 6,
     "metadata": {},
     "output_type": "execute_result"
    }
   ],
   "source": [
    "a = np.eye(5)\n",
    "a"
   ]
  },
  {
   "cell_type": "markdown",
   "metadata": {},
   "source": [
    "Функция empty() создает массив без его заполнения. Исходное содержимое случайно и зависит от состояния памяти на момент создания массива (то есть от того мусора, что в ней хранится):"
   ]
  },
  {
   "cell_type": "code",
   "execution_count": 7,
   "metadata": {},
   "outputs": [
    {
     "data": {
      "text/plain": [
       "array([[6.92100068e-310, 6.92100068e-310, 0.00000000e+000],\n",
       "       [4.00193173e-322, 6.92100068e-310, 6.92100068e-310],\n",
       "       [0.00000000e+000, 0.00000000e+000, 0.00000000e+000]])"
      ]
     },
     "execution_count": 7,
     "metadata": {},
     "output_type": "execute_result"
    }
   ],
   "source": [
    "a = np.empty((3, 3))\n",
    "a"
   ]
  },
  {
   "cell_type": "markdown",
   "metadata": {},
   "source": [
    "Для создания последовательностей чисел, в NumPy имеется функция arange(), аналогичная встроенной в Python range(), только вместо списков она возвращает массивы, и принимает не только целые значения:"
   ]
  },
  {
   "cell_type": "code",
   "execution_count": 8,
   "metadata": {},
   "outputs": [
    {
     "data": {
      "text/plain": [
       "array([10, 15, 20, 25])"
      ]
     },
     "execution_count": 8,
     "metadata": {},
     "output_type": "execute_result"
    }
   ],
   "source": [
    "a = np.arange(10, 30, 5)\n",
    "a"
   ]
  },
  {
   "cell_type": "code",
   "execution_count": 9,
   "metadata": {},
   "outputs": [
    {
     "data": {
      "text/plain": [
       "array([0. , 0.1, 0.2, 0.3, 0.4, 0.5, 0.6, 0.7, 0.8, 0.9])"
      ]
     },
     "execution_count": 9,
     "metadata": {},
     "output_type": "execute_result"
    }
   ],
   "source": [
    "a = np.arange(0, 1, 0.1)\n",
    "a"
   ]
  },
  {
   "cell_type": "markdown",
   "metadata": {},
   "source": [
    "Вообще, при использовании arange() с аргументами типа float, сложно быть уверенным в том, сколько элементов будет получено (из-за ограничения точности чисел с плавающей запятой). Поэтому, в таких случаях обычно лучше использовать функцию linspace(), которая вместо шага в качестве одного из аргументов принимает число, равное количеству нужных элементов:"
   ]
  },
  {
   "cell_type": "code",
   "execution_count": 10,
   "metadata": {},
   "outputs": [
    {
     "data": {
      "text/plain": [
       "array([0.  , 0.25, 0.5 , 0.75, 1.  , 1.25, 1.5 , 1.75, 2.  ])"
      ]
     },
     "execution_count": 10,
     "metadata": {},
     "output_type": "execute_result"
    }
   ],
   "source": [
    "a = np.linspace(0, 2, 9)  # 9 чисел от 0 до 2 включительно\n",
    "a"
   ]
  },
  {
   "cell_type": "markdown",
   "metadata": {},
   "source": [
    "# Изменение формы массивов"
   ]
  },
  {
   "cell_type": "markdown",
   "metadata": {},
   "source": [
    "Предположим, у нас имеется массив, состоящий из десяти чисел: "
   ]
  },
  {
   "cell_type": "code",
   "execution_count": 11,
   "metadata": {},
   "outputs": [
    {
     "data": {
      "text/plain": [
       "array([0, 1, 2, 3, 4, 5, 6, 7, 8, 9])"
      ]
     },
     "execution_count": 11,
     "metadata": {},
     "output_type": "execute_result"
    }
   ],
   "source": [
    "a = np.arange(10)\n",
    "a"
   ]
  },
  {
   "cell_type": "markdown",
   "metadata": {},
   "source": [
    "Для изменения формы этого массива, достаточно указать свойству shape кортеж с новыми размерами, например, так: "
   ]
  },
  {
   "cell_type": "code",
   "execution_count": 14,
   "metadata": {},
   "outputs": [
    {
     "data": {
      "text/plain": [
       "array([[0, 1, 2, 3, 4],\n",
       "       [5, 6, 7, 8, 9]])"
      ]
     },
     "execution_count": 14,
     "metadata": {},
     "output_type": "execute_result"
    }
   ],
   "source": [
    "a.shape = 2, 5\n",
    "a"
   ]
  },
  {
   "cell_type": "markdown",
   "metadata": {},
   "source": [
    "В результате изменится представление массива, на которое ссылается переменная a. Если же требуется создать новое представление массива, сохранив прежнее, то следует воспользоваться методом reshape(): "
   ]
  },
  {
   "cell_type": "markdown",
   "metadata": {},
   "source": [
    "b = a.reshape(10)\n",
    "b"
   ]
  },
  {
   "cell_type": "markdown",
   "metadata": {},
   "source": [
    "Cсылки b и a будут использовать одни и те же данные, то есть, изменение массива через b: "
   ]
  },
  {
   "cell_type": "code",
   "execution_count": 15,
   "metadata": {},
   "outputs": [],
   "source": [
    "b[0] = -1 # приведет к изменению соответствующего элемента массива a: "
   ]
  },
  {
   "cell_type": "markdown",
   "metadata": {},
   "source": [
    "У свойства shape и метода reshape() размерность должна охватывать все элементы массива. Например, вот такая команда: "
   ]
  },
  {
   "cell_type": "code",
   "execution_count": 16,
   "metadata": {},
   "outputs": [
    {
     "ename": "ValueError",
     "evalue": "cannot reshape array of size 10 into shape (3,3)",
     "output_type": "error",
     "traceback": [
      "\u001b[0;31m---------------------------------------------------------------------------\u001b[0m",
      "\u001b[0;31mValueError\u001b[0m                                Traceback (most recent call last)",
      "\u001b[0;32m/tmp/ipykernel_6130/2444272619.py\u001b[0m in \u001b[0;36m<module>\u001b[0;34m\u001b[0m\n\u001b[0;32m----> 1\u001b[0;31m \u001b[0ma\u001b[0m\u001b[0;34m.\u001b[0m\u001b[0mshape\u001b[0m \u001b[0;34m=\u001b[0m \u001b[0;36m3\u001b[0m\u001b[0;34m,\u001b[0m \u001b[0;36m3\u001b[0m\u001b[0;34m\u001b[0m\u001b[0;34m\u001b[0m\u001b[0m\n\u001b[0m",
      "\u001b[0;31mValueError\u001b[0m: cannot reshape array of size 10 into shape (3,3)"
     ]
    }
   ],
   "source": [
    "a.shape = 3, 3"
   ]
  },
  {
   "cell_type": "markdown",
   "metadata": {},
   "source": [
    "приведет к ошибке, т.к. размерность 3x3 = 9 элементов, а в массиве 10 элементов. Здесь всегда должно выполняться равенство:\n",
    "\n",
    "n1 x n2 x … x nN = число элементов массива "
   ]
  },
  {
   "cell_type": "markdown",
   "metadata": {},
   "source": [
    "Но допускается делать так: "
   ]
  },
  {
   "cell_type": "code",
   "execution_count": 17,
   "metadata": {},
   "outputs": [
    {
     "data": {
      "text/plain": [
       "array([[0, 1],\n",
       "       [2, 3],\n",
       "       [4, 5],\n",
       "       [6, 7],\n",
       "       [8, 9]])"
      ]
     },
     "execution_count": 17,
     "metadata": {},
     "output_type": "execute_result"
    }
   ],
   "source": [
    "a.shape = -1, 2\n",
    "a"
   ]
  },
  {
   "cell_type": "markdown",
   "metadata": {},
   "source": [
    "Отрицательное значение -1 означает автоматическое вычисление размерности по первой оси. По второй берется значение 2. В этом случае получим размерность 5x2.\n",
    "\n",
    "То же самое можно делать и в методе reshape(): "
   ]
  },
  {
   "cell_type": "code",
   "execution_count": null,
   "metadata": {},
   "outputs": [],
   "source": [
    "b.reshape(-1, 1)\n",
    "print(b)\n",
    "b.reshape(1, -1)\n",
    "print(b)"
   ]
  },
  {
   "cell_type": "markdown",
   "metadata": {},
   "source": [
    "Используя отрицательный индекс, можно делать и такие преобразования: "
   ]
  },
  {
   "cell_type": "code",
   "execution_count": null,
   "metadata": {},
   "outputs": [],
   "source": [
    "b.reshape(2, -1)\n",
    "print(b)\n",
    "b.reshape(-1, 2)\n",
    "print(b)"
   ]
  },
  {
   "cell_type": "markdown",
   "metadata": {},
   "source": [
    "Если нам требуется многомерный массив преобразовать в обычный одномерный, то можно воспользоваться методом ravel(), который возвращает новое представление, не меняя текущего: "
   ]
  },
  {
   "cell_type": "code",
   "execution_count": 18,
   "metadata": {},
   "outputs": [
    {
     "data": {
      "text/plain": [
       "array([-1.+0.j, -1.+0.j, -1.+0.j,  4.+0.j,  5.+0.j,  6.+0.j])"
      ]
     },
     "execution_count": 18,
     "metadata": {},
     "output_type": "execute_result"
    }
   ],
   "source": [
    "c = b.ravel() # с ссылается на одномерное представление массива\n",
    "c"
   ]
  },
  {
   "cell_type": "markdown",
   "metadata": {},
   "source": [
    "Если же нам нужно текущий массив преобразовать в одномерный, то это можно сделать так: "
   ]
  },
  {
   "cell_type": "code",
   "execution_count": 19,
   "metadata": {},
   "outputs": [],
   "source": [
    "b.shape = -1"
   ]
  },
  {
   "cell_type": "markdown",
   "metadata": {},
   "source": [
    "Помимо свойства shape можно использовать метод resize, который выполняет подобную операцию с текущим массивом. Например: "
   ]
  },
  {
   "cell_type": "code",
   "execution_count": 20,
   "metadata": {},
   "outputs": [],
   "source": [
    "a.resize(2, 5) # массив 2x5"
   ]
  },
  {
   "cell_type": "markdown",
   "metadata": {},
   "source": [
    "Но, как мы уже говорили, вот такая строчка приведет к ошибке: "
   ]
  },
  {
   "cell_type": "code",
   "execution_count": 21,
   "metadata": {},
   "outputs": [
    {
     "ename": "ValueError",
     "evalue": "cannot resize an array that references or is referenced\nby another array in this way.\nUse the np.resize function or refcheck=False",
     "output_type": "error",
     "traceback": [
      "\u001b[0;31m---------------------------------------------------------------------------\u001b[0m",
      "\u001b[0;31mValueError\u001b[0m                                Traceback (most recent call last)",
      "\u001b[0;32m/tmp/ipykernel_6130/4058682236.py\u001b[0m in \u001b[0;36m<module>\u001b[0;34m\u001b[0m\n\u001b[0;32m----> 1\u001b[0;31m \u001b[0ma\u001b[0m\u001b[0;34m.\u001b[0m\u001b[0mresize\u001b[0m\u001b[0;34m(\u001b[0m\u001b[0;36m3\u001b[0m\u001b[0;34m,\u001b[0m \u001b[0;36m3\u001b[0m\u001b[0;34m)\u001b[0m  \u001b[0;31m# ошибка: 3x3 != 10\u001b[0m\u001b[0;34m\u001b[0m\u001b[0;34m\u001b[0m\u001b[0m\n\u001b[0m",
      "\u001b[0;31mValueError\u001b[0m: cannot resize an array that references or is referenced\nby another array in this way.\nUse the np.resize function or refcheck=False"
     ]
    }
   ],
   "source": [
    "a.resize(3, 3)  # ошибка: 3x3 != 10"
   ]
  },
  {
   "cell_type": "markdown",
   "metadata": {},
   "source": [
    "# Транспонирование матриц и векторов"
   ]
  },
  {
   "cell_type": "markdown",
   "metadata": {},
   "source": [
    "Очень часто в математических операциях требуется выполнять транспонирование матриц и векторов, то есть, заменять строки на столбцы. Например, если имеется матрица (двумерный массив): "
   ]
  },
  {
   "cell_type": "code",
   "execution_count": 25,
   "metadata": {},
   "outputs": [
    {
     "data": {
      "text/plain": [
       "array([[ 1,  2,  3],\n",
       "       [ 1,  4,  9],\n",
       "       [ 1,  8, 27]])"
      ]
     },
     "execution_count": 25,
     "metadata": {},
     "output_type": "execute_result"
    }
   ],
   "source": [
    "a = np.array([(1, 2, 3), (1, 4, 9), (1, 8, 27)])\n",
    "a"
   ]
  },
  {
   "cell_type": "markdown",
   "metadata": {},
   "source": [
    "то операция транспонирования может быть реализована так: "
   ]
  },
  {
   "cell_type": "code",
   "execution_count": 23,
   "metadata": {},
   "outputs": [
    {
     "data": {
      "text/plain": [
       "array([[ 1,  1,  1],\n",
       "       [ 2,  4,  8],\n",
       "       [ 3,  9, 27]])"
      ]
     },
     "execution_count": 23,
     "metadata": {},
     "output_type": "execute_result"
    }
   ],
   "source": [
    "b = a.T\n",
    "b"
   ]
  },
  {
   "cell_type": "markdown",
   "metadata": {},
   "source": [
    "Обратите внимание, мы здесь создаем лишь новое представление тех же самых данных массива a. И изменение элементов в массиве b: "
   ]
  },
  {
   "cell_type": "code",
   "execution_count": 24,
   "metadata": {},
   "outputs": [],
   "source": [
    "b[0, 1] = 10"
   ]
  },
  {
   "cell_type": "markdown",
   "metadata": {},
   "source": [
    "приведет к соответствующему изменению значения элемента и массива a. Это следует помнить, используя операцию транспонирования.\n",
    "\n",
    "Транспонирование векторов работает несколько иначе. Предположим, имеется одномерный массив: "
   ]
  },
  {
   "cell_type": "code",
   "execution_count": 26,
   "metadata": {},
   "outputs": [
    {
     "data": {
      "text/plain": [
       "array([1, 2, 3, 4, 5, 6, 7, 8, 9])"
      ]
     },
     "execution_count": 26,
     "metadata": {},
     "output_type": "execute_result"
    }
   ],
   "source": [
    "x = np.arange(1, 10)\n",
    "x"
   ]
  },
  {
   "cell_type": "markdown",
   "metadata": {},
   "source": [
    "и мы выполняем операцию транспонирования: "
   ]
  },
  {
   "cell_type": "code",
   "execution_count": 27,
   "metadata": {},
   "outputs": [
    {
     "data": {
      "text/plain": [
       "array([1, 2, 3, 4, 5, 6, 7, 8, 9])"
      ]
     },
     "execution_count": 27,
     "metadata": {},
     "output_type": "execute_result"
    }
   ],
   "source": [
    "x.T\n",
    "x"
   ]
  },
  {
   "cell_type": "markdown",
   "metadata": {},
   "source": [
    "В результате ничего не изменилось: вектор как был строкой, так строкой и остался. Почему? Дело в том, что массив x имеет только одну размерность, поэтому здесь нет понятия строк и столбцов. Соответственно, операция транспонирования ни к чему не приводит. Чтобы получить ожидаемый эффект, нужно добавить к массиву еще одну ось, например, так: "
   ]
  },
  {
   "cell_type": "code",
   "execution_count": 28,
   "metadata": {},
   "outputs": [],
   "source": [
    "x.shape = 1, -1"
   ]
  },
  {
   "cell_type": "markdown",
   "metadata": {},
   "source": [
    "И теперь, при транспонировании получим вектор-столбец: "
   ]
  },
  {
   "cell_type": "code",
   "execution_count": 29,
   "metadata": {},
   "outputs": [
    {
     "name": "stdout",
     "output_type": "stream",
     "text": [
      "[[1]\n",
      " [2]\n",
      " [3]\n",
      " [4]\n",
      " [5]\n",
      " [6]\n",
      " [7]\n",
      " [8]\n",
      " [9]]\n",
      "[[1 2 3 4 5 6 7 8 9]]\n"
     ]
    }
   ],
   "source": [
    "print(x.T.)\n",
    "print(x)"
   ]
  },
  {
   "cell_type": "markdown",
   "metadata": {},
   "source": [
    "# Операции с индексами"
   ]
  },
  {
   "cell_type": "markdown",
   "metadata": {},
   "source": [
    "Оперативная память компьютера линейна, и поэтому даже многомерные массивы, на самом деле являются некоторыми линейными структурами, над которыми существуют система индексов, говорящих как именно читать этот линейный блок. Проведение операций над индексами в большистве случаев эффективно и поэтому операции смены размерности массива или транспонирования выполняются быстро"
   ]
  },
  {
   "cell_type": "code",
   "execution_count": 30,
   "metadata": {},
   "outputs": [
    {
     "name": "stdout",
     "output_type": "stream",
     "text": [
      "[[1 3]\n",
      " [2 4]]\n"
     ]
    }
   ],
   "source": [
    "import numpy as np\n",
    "\n",
    "a = np.asarray([[1,2], [3,4]])\n",
    "b = a.T # Транспонированый массив\n",
    "print(b)"
   ]
  },
  {
   "cell_type": "code",
   "execution_count": 31,
   "metadata": {},
   "outputs": [
    {
     "name": "stdout",
     "output_type": "stream",
     "text": [
      "[[10  3]\n",
      " [ 2  4]]\n"
     ]
    }
   ],
   "source": [
    "b[0,0] = 10\n",
    "print(b)"
   ]
  },
  {
   "cell_type": "code",
   "execution_count": 32,
   "metadata": {},
   "outputs": [
    {
     "name": "stdout",
     "output_type": "stream",
     "text": [
      "[[10  2]\n",
      " [ 3  4]]\n"
     ]
    }
   ],
   "source": [
    "print(a)"
   ]
  },
  {
   "cell_type": "code",
   "execution_count": 33,
   "metadata": {},
   "outputs": [
    {
     "data": {
      "text/plain": [
       "array([[11,  3],\n",
       "       [ 2,  4]])"
      ]
     },
     "execution_count": 33,
     "metadata": {},
     "output_type": "execute_result"
    }
   ],
   "source": [
    "b[0][0] = 11\n",
    "b"
   ]
  },
  {
   "cell_type": "markdown",
   "metadata": {},
   "source": [
    "Как мы видим при изменени переменной b изменилась переменная a. Это произошло потому, что обе эти переменные использубют один и тот же кусок памяти, но по разному."
   ]
  },
  {
   "cell_type": "markdown",
   "metadata": {},
   "source": [
    "# Добавление и удаление осей"
   ]
  },
  {
   "cell_type": "markdown",
   "metadata": {},
   "source": [
    "Часто при работе с массивами NumPy требуется добавлять новые оси измерений и удалять существующие. Есть множество способов выполнять эти операции, но мы рассмотрим два наиболее распространенных с помощью функций:\n",
    "\n",
    "    np.expand_dims(a, axis) – добавление новой оси;\n",
    "    np.squeeze(a[, axis]) – удаление оси (без удаления элементов). \n",
    "\n",
    "Давайте предположим, что у нас имеется некий многомерный массив: "
   ]
  },
  {
   "cell_type": "code",
   "execution_count": 34,
   "metadata": {},
   "outputs": [],
   "source": [
    "x_test = np.arange(32).reshape(8, 2, 2) # массив 8x2x2"
   ]
  },
  {
   "cell_type": "markdown",
   "metadata": {},
   "source": [
    "И нам потребовалось добавить еще одно измерение (ось), причем, в самое начало, то есть, ось axis0. Сейчас на этой оси 8 элементов – матриц 2x2, но мы хотим сделать четырехмерный массив, сохранив остальные три оси и их данные без изменений. Как раз это достаточно просто сделать с помощью функции expand_dims, следующим образом: "
   ]
  },
  {
   "cell_type": "code",
   "execution_count": 35,
   "metadata": {},
   "outputs": [],
   "source": [
    "x_test4 = np.expand_dims(x_test, axis=0)"
   ]
  },
  {
   "cell_type": "markdown",
   "metadata": {},
   "source": [
    "Обращаясь к свойству shape: "
   ]
  },
  {
   "cell_type": "markdown",
   "metadata": {},
   "source": [
    "x_test4.shape"
   ]
  },
  {
   "cell_type": "markdown",
   "metadata": {},
   "source": [
    "Видим, что массив стал четырехмерным и первая добавленная ось axis0 содержит один элемент – трехмерный массив 8x2x2. При необходимости, мы всегда можем добавить новый элемент на эту ось: "
   ]
  },
  {
   "cell_type": "code",
   "execution_count": 36,
   "metadata": {},
   "outputs": [
    {
     "data": {
      "text/plain": [
       "array([[[[ 0,  1],\n",
       "         [ 2,  3]],\n",
       "\n",
       "        [[ 4,  5],\n",
       "         [ 6,  7]],\n",
       "\n",
       "        [[ 8,  9],\n",
       "         [10, 11]],\n",
       "\n",
       "        [[12, 13],\n",
       "         [14, 15]],\n",
       "\n",
       "        [[16, 17],\n",
       "         [18, 19]],\n",
       "\n",
       "        [[20, 21],\n",
       "         [22, 23]],\n",
       "\n",
       "        [[24, 25],\n",
       "         [26, 27]],\n",
       "\n",
       "        [[28, 29],\n",
       "         [30, 31]]],\n",
       "\n",
       "\n",
       "       [[[ 0,  1],\n",
       "         [ 2,  3]],\n",
       "\n",
       "        [[ 4,  5],\n",
       "         [ 6,  7]],\n",
       "\n",
       "        [[ 8,  9],\n",
       "         [10, 11]],\n",
       "\n",
       "        [[12, 13],\n",
       "         [14, 15]],\n",
       "\n",
       "        [[16, 17],\n",
       "         [18, 19]],\n",
       "\n",
       "        [[20, 21],\n",
       "         [22, 23]],\n",
       "\n",
       "        [[24, 25],\n",
       "         [26, 27]],\n",
       "\n",
       "        [[28, 29],\n",
       "         [30, 31]]]])"
      ]
     },
     "execution_count": 36,
     "metadata": {},
     "output_type": "execute_result"
    }
   ],
   "source": [
    "a = np.append(x_test4, x_test4, axis=0) # размерность (2, 8, 2, 2)\n",
    "a"
   ]
  },
  {
   "cell_type": "markdown",
   "metadata": {},
   "source": [
    "или удалить ненужные элементы: "
   ]
  },
  {
   "cell_type": "code",
   "execution_count": 37,
   "metadata": {},
   "outputs": [
    {
     "data": {
      "text/plain": [
       "array([[[[ 0,  1],\n",
       "         [ 2,  3]],\n",
       "\n",
       "        [[ 4,  5],\n",
       "         [ 6,  7]],\n",
       "\n",
       "        [[ 8,  9],\n",
       "         [10, 11]],\n",
       "\n",
       "        [[12, 13],\n",
       "         [14, 15]],\n",
       "\n",
       "        [[16, 17],\n",
       "         [18, 19]],\n",
       "\n",
       "        [[20, 21],\n",
       "         [22, 23]],\n",
       "\n",
       "        [[24, 25],\n",
       "         [26, 27]],\n",
       "\n",
       "        [[28, 29],\n",
       "         [30, 31]]]])"
      ]
     },
     "execution_count": 37,
     "metadata": {},
     "output_type": "execute_result"
    }
   ],
   "source": [
    "b = np.delete(a, 0, axis=0) # размерность (1, 8, 2, 2)\n",
    "b"
   ]
  },
  {
   "cell_type": "markdown",
   "metadata": {},
   "source": [
    "Здесь второй параметр 0 – индекс удаляемого элемента на оси axis0.\n",
    "\n",
    "Если нам нужно добавить последнюю ось в массиве, то для этого можно записать такую команду: "
   ]
  },
  {
   "cell_type": "code",
   "execution_count": 38,
   "metadata": {},
   "outputs": [],
   "source": [
    "b = np.expand_dims(x_test4, axis=-1) # размерность (1, 8, 2, 2, 1)"
   ]
  },
  {
   "cell_type": "markdown",
   "metadata": {},
   "source": [
    "Отрицательный индекс -1 – это следующая с конца ось. Если указать индекс -2, то добавится предпоследняя ось и так далее. Отрицательные индексы очень удобно использовать при работе с массивами произвольных размерностей.\n",
    "\n",
    "Следующая функция squeeze позволяет удалить все оси с одним элементом. Например, строчка: "
   ]
  },
  {
   "cell_type": "code",
   "execution_count": 39,
   "metadata": {},
   "outputs": [
    {
     "data": {
      "text/plain": [
       "array([[[ 0,  1],\n",
       "        [ 2,  3]],\n",
       "\n",
       "       [[ 4,  5],\n",
       "        [ 6,  7]],\n",
       "\n",
       "       [[ 8,  9],\n",
       "        [10, 11]],\n",
       "\n",
       "       [[12, 13],\n",
       "        [14, 15]],\n",
       "\n",
       "       [[16, 17],\n",
       "        [18, 19]],\n",
       "\n",
       "       [[20, 21],\n",
       "        [22, 23]],\n",
       "\n",
       "       [[24, 25],\n",
       "        [26, 27]],\n",
       "\n",
       "       [[28, 29],\n",
       "        [30, 31]]])"
      ]
     },
     "execution_count": 39,
     "metadata": {},
     "output_type": "execute_result"
    }
   ],
   "source": [
    "c = np.squeeze(b) # размерность (8, 2, 2)\n",
    "c"
   ]
  },
  {
   "cell_type": "markdown",
   "metadata": {},
   "source": [
    "превращает массив размерностью (1, 8, 2, 2) в массив размерностью (8, 2, 2). При необходимости, дополнительно мы можем самостоятельно указать оси, которые следует удалять, например, так: "
   ]
  },
  {
   "cell_type": "code",
   "execution_count": null,
   "metadata": {},
   "outputs": [],
   "source": [
    "c = np.squeeze(b, axis=0) # удалит только ось axis0, не затронув другие"
   ]
  },
  {
   "cell_type": "markdown",
   "metadata": {},
   "source": [
    "Но, если указать ось с числом элементов больше 1, то возникнет ошибка: "
   ]
  },
  {
   "cell_type": "code",
   "execution_count": null,
   "metadata": {},
   "outputs": [],
   "source": [
    "c = np.squeeze(b, axis=1) # ошибка, на оси axis1 8 элементов"
   ]
  },
  {
   "cell_type": "markdown",
   "metadata": {},
   "source": [
    "В NumPy добавлять новые оси иногда удобнее с помощью специального объекта np.newaxis. Например, пусть у нас есть одномерный массив: "
   ]
  },
  {
   "cell_type": "code",
   "execution_count": null,
   "metadata": {},
   "outputs": [],
   "source": [
    "a = np.arange(1, 10)\n",
    "a"
   ]
  },
  {
   "cell_type": "markdown",
   "metadata": {},
   "source": [
    "У него одна ось – одно измерение. Добавим еще одну ось, допустим, в начало. С помощью объекта np.newaxis это можно сделать так: "
   ]
  },
  {
   "cell_type": "code",
   "execution_count": null,
   "metadata": {},
   "outputs": [],
   "source": [
    "b = a[np.newaxis, :] # добавление оси axis0\n",
    "print(b)\n",
    "b.shape # (1, 9)"
   ]
  },
  {
   "cell_type": "markdown",
   "metadata": {},
   "source": [
    "Или, можно прописать сразу две оси: "
   ]
  },
  {
   "cell_type": "code",
   "execution_count": null,
   "metadata": {},
   "outputs": [],
   "source": [
    "c = a[np.newaxis, :, np.newaxis]\n",
    "print(c)\n",
    "c.shape # (1, 9, 1)"
   ]
  },
  {
   "cell_type": "markdown",
   "metadata": {},
   "source": [
    "# Базовые математические операции над массивами"
   ]
  },
  {
   "cell_type": "markdown",
   "metadata": {},
   "source": [
    "Предположим, имеется обычный список и массив, созданный на его основе:"
   ]
  },
  {
   "cell_type": "code",
   "execution_count": 40,
   "metadata": {},
   "outputs": [],
   "source": [
    "lst = [1, 2, 3]\n",
    "a = np.array([1, 2, 3])"
   ]
  },
  {
   "cell_type": "markdown",
   "metadata": {},
   "source": [
    "Сейчас вы увидите принципиальную разницу между двумя этими объектами. Умножим их на число 2: "
   ]
  },
  {
   "cell_type": "code",
   "execution_count": 42,
   "metadata": {},
   "outputs": [
    {
     "name": "stdout",
     "output_type": "stream",
     "text": [
      "[1, 2, 3, 1, 2, 3]\n",
      "[2 4 6]\n"
     ]
    }
   ],
   "source": [
    "print(lst*2)\n",
    "print(a*2)"
   ]
  },
  {
   "cell_type": "markdown",
   "metadata": {},
   "source": [
    "Видите, при умножении списка языка Python, он дублируется дважды, а при умножении на NumPy массив – каждый его элемент умножается математически на число 2. Если бы мы захотели то же самое реализовать непосредственно на Python, оперируя списками, то пришлось бы делать что-то вроде:"
   ]
  },
  {
   "cell_type": "code",
   "execution_count": 43,
   "metadata": {},
   "outputs": [
    {
     "data": {
      "text/plain": [
       "[2, 4, 6]"
      ]
     },
     "execution_count": 43,
     "metadata": {},
     "output_type": "execute_result"
    }
   ],
   "source": [
    "[x*2 for x in lst]"
   ]
  },
  {
   "cell_type": "markdown",
   "metadata": {},
   "source": [
    "Но выполнялась бы такая конструкция дольше, чем в случае с массивом NumPy. Именно благодаря удобству и скорости библиотека NumPy и приобрела свою популярность."
   ]
  },
  {
   "cell_type": "markdown",
   "metadata": {},
   "source": [
    "Пусть у нас задан тот же одномерный массив: "
   ]
  },
  {
   "cell_type": "code",
   "execution_count": 44,
   "metadata": {},
   "outputs": [],
   "source": [
    "a = np.array([1, 2, 3])"
   ]
  },
  {
   "cell_type": "markdown",
   "metadata": {},
   "source": [
    "Все указанные в таблице операции выполняются следующим образом: "
   ]
  },
  {
   "cell_type": "code",
   "execution_count": 45,
   "metadata": {},
   "outputs": [
    {
     "name": "stdout",
     "output_type": "stream",
     "text": [
      "[-1 -2 -3]\n",
      "[3 4 5]\n",
      "[3 4 5]\n",
      "[-2 -1  0]\n",
      "[ 5 10 15]\n",
      "[0.2 0.4 0.6]\n",
      "[0 1 1]\n",
      "[ 1  8 27]\n",
      "[1 0 1]\n"
     ]
    }
   ],
   "source": [
    "print(-a) # унарный минус\n",
    "print(a + 2) # сложение с числом\n",
    "print(2 + a)  # так тоже можно записывать\n",
    "print(a - 3) # вычитание с числом\n",
    "print(a * 5) # умножение на число\n",
    "print(a / 5)  # деление на число\n",
    "print(a // 2)  # целочисленное деление\n",
    "print(a ** 3)  # возведение в степень 3\n",
    "print(a % 2)  # вычисление по модулю 2"
   ]
  },
  {
   "cell_type": "markdown",
   "metadata": {},
   "source": [
    "Приоритеты этих операций такие же, что и при обычных математических вычислениях. А на выходе мы получаем новый массив с соответствующими значениями.\n",
    "\n",
    "Давайте теперь добавим еще один массив: "
   ]
  },
  {
   "cell_type": "code",
   "execution_count": 46,
   "metadata": {},
   "outputs": [],
   "source": [
    "b = np.array([3, 4, 5])"
   ]
  },
  {
   "cell_type": "markdown",
   "metadata": {},
   "source": [
    "и посмотрим на эти же операции, но с участием двух массивов:"
   ]
  },
  {
   "cell_type": "code",
   "execution_count": 47,
   "metadata": {},
   "outputs": [
    {
     "name": "stdout",
     "output_type": "stream",
     "text": [
      "[-2 -2 -2]\n",
      "[4 6 8]\n",
      "[ 3  8 15]\n",
      "[3.         2.         1.66666667]\n",
      "[3 2 1]\n",
      "[  3  16 125]\n",
      "[0 0 2]\n"
     ]
    }
   ],
   "source": [
    "print(a - b)\n",
    "print(b + a)\n",
    "print(a * b)\n",
    "print(b / a)\n",
    "print(b // a)\n",
    "print(b ** a)\n",
    "print(b % a)"
   ]
  },
  {
   "cell_type": "markdown",
   "metadata": {},
   "source": [
    "Везде мы видим поэлементные операции. Соответственно, чтобы они выполнялись, массивы должны быть согласованы по длине. Например, если взять массив: "
   ]
  },
  {
   "cell_type": "code",
   "execution_count": null,
   "metadata": {},
   "outputs": [],
   "source": [
    "b = np.array([3, 4, 5, 6])"
   ]
  },
  {
   "cell_type": "markdown",
   "metadata": {},
   "source": [
    "и выполнить операцию: "
   ]
  },
  {
   "cell_type": "code",
   "execution_count": null,
   "metadata": {},
   "outputs": [],
   "source": [
    "a + b  # ошибка: длины массивов не совпадают"
   ]
  },
  {
   "cell_type": "markdown",
   "metadata": {},
   "source": [
    "то возникнет ошибка из-за несовпадения длин массивов. Но вот такая операция с двумерным массивом b сработает: "
   ]
  },
  {
   "cell_type": "code",
   "execution_count": null,
   "metadata": {},
   "outputs": [],
   "source": [
    "b = np.arange(1, 7)\n",
    "b.resize(2, 3)\n",
    "a + b"
   ]
  },
  {
   "cell_type": "markdown",
   "metadata": {},
   "source": [
    "В этом случае массив a будет применен к каждой строке массива b. Такое поведение получило название транслирование массивов."
   ]
  },
  {
   "cell_type": "markdown",
   "metadata": {},
   "source": [
    "Все рассмотренные операции можно распространить и на многомерные массивы, главное, чтобы они были согласованы по размерам. Я приведу два небольших примера, так как думаю, общий принцип здесь понятен. Пусть у нас трехмерный и двумерный массивы: "
   ]
  },
  {
   "cell_type": "code",
   "execution_count": null,
   "metadata": {},
   "outputs": [],
   "source": [
    "a = np.arange(1, 19)\n",
    "a.resize(3, 3, 2)\n",
    "b = np.ones((3, 2))"
   ]
  },
  {
   "cell_type": "markdown",
   "metadata": {},
   "source": [
    "С ними можно выполнять такие операции:"
   ]
  },
  {
   "cell_type": "code",
   "execution_count": null,
   "metadata": {},
   "outputs": [],
   "source": [
    "print(a - b)\n",
    "print(a * 10)\n",
    "print(a // b)"
   ]
  },
  {
   "cell_type": "markdown",
   "metadata": {},
   "source": [
    "Если нам нужно произвести какие-либо математические операции с массивом и изменения сохранить в нем же, то удобно использовать сокращенные записи."
   ]
  },
  {
   "cell_type": "code",
   "execution_count": 49,
   "metadata": {},
   "outputs": [
    {
     "data": {
      "text/plain": [
       "array([ 6.,  7., 11., 13.])"
      ]
     },
     "execution_count": 49,
     "metadata": {},
     "output_type": "execute_result"
    }
   ],
   "source": [
    "a = np.array([1, 2, 6, 8])\n",
    "a += 5\n",
    "b = np.ones(4)\n",
    "b *= a\n",
    "b"
   ]
  },
  {
   "cell_type": "markdown",
   "metadata": {},
   "source": [
    "# Элементы линейной алгебры"
   ]
  },
  {
   "cell_type": "markdown",
   "metadata": {},
   "source": [
    "**Упражнение 1**\n",
    "\n",
    "Создайте два вектора.\n",
    "\n",
    "Найдите в документации numpy функции **dot** и **inner** вычислите скалярное произведение векторов."
   ]
  },
  {
   "cell_type": "code",
   "execution_count": 54,
   "metadata": {},
   "outputs": [
    {
     "name": "stdout",
     "output_type": "stream",
     "text": [
      "53 53\n"
     ]
    }
   ],
   "source": [
    "a = np.array([1, 2, 6])\n",
    "b = np.array([9, 7, 5])\n",
    "print (np.dot(a, b), np.inner(a, b))"
   ]
  },
  {
   "cell_type": "markdown",
   "metadata": {},
   "source": [
    "**Упражнение 2**\n",
    "\n",
    "Создайте две матрицы (двумерных массива).\n",
    "\n",
    "Найдите в документации numpy функции **dot** и **matmul** и с помощью этих функций вычислите произведение двух матриц.\n",
    "\n",
    "Создайте диагональную единичную матрицу и выполните умножение одной из предыдущих матриц на единичную матрицу."
   ]
  },
  {
   "cell_type": "code",
   "execution_count": 59,
   "metadata": {},
   "outputs": [
    {
     "name": "stdout",
     "output_type": "stream",
     "text": [
      "[[47 65 51]\n",
      " [50 67 58]]\n",
      "[[47 65 51]\n",
      " [50 67 58]]\n"
     ]
    }
   ],
   "source": [
    "a = np.array([[1, 2, 6], [1, 4, 5]])\n",
    "b = np.array([[9, 7, 9], [4, 5, 6], [5, 8, 5]])\n",
    "print(np.dot(a, b))\n",
    "print(np.matmul(a, b))"
   ]
  },
  {
   "cell_type": "markdown",
   "metadata": {},
   "source": [
    "Вычисление нормы вектора:"
   ]
  },
  {
   "cell_type": "code",
   "execution_count": 55,
   "metadata": {},
   "outputs": [
    {
     "data": {
      "text/plain": [
       "10.14889156509222"
      ]
     },
     "execution_count": 55,
     "metadata": {},
     "output_type": "execute_result"
    }
   ],
   "source": [
    "b = np.array([0, 2, 3, 4, 5, 7])\n",
    "d = np.linalg.norm(b)\n",
    "d"
   ]
  },
  {
   "cell_type": "markdown",
   "metadata": {},
   "source": [
    "**Упражнение 3**\n",
    "\n",
    "Вычислите норму матрицы с помощью функции **np.linalg.norm**."
   ]
  },
  {
   "cell_type": "code",
   "execution_count": 60,
   "metadata": {},
   "outputs": [
    {
     "name": "stdout",
     "output_type": "stream",
     "text": [
      "13.152946437965905\n"
     ]
    }
   ],
   "source": [
    "a = np.array([[1, 2, 6], [1, 4, 5], [5, 4, 7]])\n",
    "print(np.linalg.norm(a))"
   ]
  },
  {
   "cell_type": "markdown",
   "metadata": {},
   "source": [
    "**Упражнение 4**\n",
    "\n",
    "Вычислите косинус угла между векторами: $\\normalsize cos\\alpha = \\frac{a*b}{\\|a\\|*\\|b\\|}$"
   ]
  },
  {
   "cell_type": "code",
   "execution_count": 64,
   "metadata": {},
   "outputs": [
    {
     "name": "stdout",
     "output_type": "stream",
     "text": [
      "0.8278612772084686\n"
     ]
    }
   ],
   "source": [
    "a = np.array([1, 2, 6])\n",
    "b = np.array([9, 7, 9])\n",
    "mod_a = np.linalg.norm(a)\n",
    "mod_b = np.linalg.norm(b)\n",
    "dot_product = np.dot(a, b)\n",
    "cos = dot_product / (mod_a * mod_b)\n",
    "print(cos)"
   ]
  },
  {
   "cell_type": "markdown",
   "metadata": {},
   "source": [
    "____________________________________________________________________________________________________________________\n",
    "Вычисление определителя матрицы:"
   ]
  },
  {
   "cell_type": "code",
   "execution_count": 65,
   "metadata": {},
   "outputs": [
    {
     "name": "stdout",
     "output_type": "stream",
     "text": [
      "[[-4 -1  2]\n",
      " [10  4 -1]\n",
      " [ 8  3  1]]\n",
      "-14.000000000000009\n"
     ]
    }
   ],
   "source": [
    "A = np.matrix('-4 -1 2; 10 4 -1; 8 3 1') # еще один способ для создания матрицы\n",
    "print(A)\n",
    "d = np.linalg.det(A)\n",
    "print(d)"
   ]
  },
  {
   "cell_type": "markdown",
   "metadata": {},
   "source": [
    "**Упражнение 5**\n",
    "\n",
    "Транспонируйте матрицу, вычислите определитель. Отличается ли определитель транспонированной матрицы от определителя исходной матрицы?\n",
    "\n",
    "Замените одну из строк матрицы на строку из нулей, вычислите определитель матрицы.\n",
    "\n",
    "Создайте матрицу, у которой две строки переставлены местами по сравнению с исходной матрицей, вычислите определитель новой матрицы.\n",
    "\n",
    "Создайте матрицу с двумя одинаковыми строками, вычислите ее определитель.\n",
    "\n",
    "Умножьте одну из строк исходной матрицы на число, вычислите определитель.\n",
    "\n",
    "Прибавьте к элементам одной строки прибавить элементы другой строки, умноженные на одно и тоже число, вычтслите определитель."
   ]
  },
  {
   "cell_type": "code",
   "execution_count": 68,
   "metadata": {},
   "outputs": [
    {
     "name": "stdout",
     "output_type": "stream",
     "text": [
      "[[9 7 9]\n",
      " [4 5 6]\n",
      " [5 8 5]]\n",
      "[[9 4 5]\n",
      " [7 5 8]\n",
      " [9 6 5]]\n",
      "-74.00000000000003\n",
      "-74.00000000000003\n"
     ]
    }
   ],
   "source": [
    "b = np.array([[9, 7, 9], [4, 5, 6], [5, 8, 5]])\n",
    "a = b.T\n",
    "print (b)\n",
    "print (a)\n",
    "\n",
    "print(np.linalg.det(b))\n",
    "print(np.linalg.det(a))"
   ]
  },
  {
   "cell_type": "code",
   "execution_count": 70,
   "metadata": {},
   "outputs": [
    {
     "name": "stdout",
     "output_type": "stream",
     "text": [
      "[[9 7 9]\n",
      " [0 0 0]\n",
      " [5 8 5]]\n",
      "0.0\n"
     ]
    }
   ],
   "source": [
    "b = np.array([[9, 7, 9], [4, 5, 6], [5, 8, 5]])\n",
    "b[1] = [0, 0, 0]\n",
    "\n",
    "print (b)\n",
    "print(np.linalg.det(b))"
   ]
  },
  {
   "cell_type": "code",
   "execution_count": 88,
   "metadata": {},
   "outputs": [
    {
     "data": {
      "text/plain": [
       "array([[4, 5, 6],\n",
       "       [9, 7, 9],\n",
       "       [5, 8, 5]])"
      ]
     },
     "execution_count": 88,
     "metadata": {},
     "output_type": "execute_result"
    }
   ],
   "source": [
    "b = np.array([[9, 7, 9], [4, 5, 6], [5, 8, 5]])\n",
    "\n",
    "b[[1, 0]] = b[[0, 1]]\n",
    "\n",
    "b"
   ]
  },
  {
   "cell_type": "code",
   "execution_count": 77,
   "metadata": {},
   "outputs": [
    {
     "name": "stdout",
     "output_type": "stream",
     "text": [
      "0.0\n"
     ]
    }
   ],
   "source": [
    "b = np.array([[9, 7, 9], [9, 7, 9], [5, 8, 5]])\n",
    "print(np.linalg.det(b))"
   ]
  },
  {
   "cell_type": "code",
   "execution_count": 78,
   "metadata": {},
   "outputs": [
    {
     "name": "stdout",
     "output_type": "stream",
     "text": [
      "[[ 9  7  9]\n",
      " [ 8 10 12]\n",
      " [ 5  8  5]]\n",
      "-148.00000000000009\n"
     ]
    }
   ],
   "source": [
    "b = np.array([[9, 7, 9], [4, 5, 6], [5, 8, 5]])\n",
    "b[1] *= 2 \n",
    "\n",
    "print (b)\n",
    "print(np.linalg.det(b))"
   ]
  },
  {
   "cell_type": "code",
   "execution_count": 87,
   "metadata": {},
   "outputs": [
    {
     "name": "stdout",
     "output_type": "stream",
     "text": [
      "[[ 9  7  9]\n",
      " [22 19 24]\n",
      " [ 5  8  5]]\n",
      "-74.0000000000001\n"
     ]
    }
   ],
   "source": [
    "b = np.array([[9, 7, 9], [4, 5, 6], [5, 8, 5]])\n",
    "b[1] += b[0] * 2 \n",
    "\n",
    "print (b)\n",
    "print(np.linalg.det(b))"
   ]
  },
  {
   "cell_type": "markdown",
   "metadata": {},
   "source": [
    "# Построение графиков в matplotlib"
   ]
  },
  {
   "cell_type": "markdown",
   "metadata": {},
   "source": [
    "Построение графика по точкам:"
   ]
  },
  {
   "cell_type": "code",
   "execution_count": 90,
   "metadata": {},
   "outputs": [
    {
     "data": {
      "image/png": "[encoded data removed]",
      "text/plain": [
       "<Figure size 432x288 with 1 Axes>"
      ]
     },
     "metadata": {
      "needs_background": "light"
     },
     "output_type": "display_data"
    }
   ],
   "source": [
    "import matplotlib.pyplot as plt\n",
    "plt.plot([1, 2, 3, 4, 5], [1, 2, 3, 4, 5])\n",
    "plt.show()"
   ]
  },
  {
   "cell_type": "markdown",
   "metadata": {},
   "source": [
    "Для начала построим линейную зависимость, дадим нашему графику название, подпишем оси и отобразим сетку:"
   ]
  },
  {
   "cell_type": "code",
   "execution_count": 91,
   "metadata": {},
   "outputs": [
    {
     "data": {
      "text/plain": [
       "[<matplotlib.lines.Line2D at 0x7f673ce8f7c0>]"
      ]
     },
     "execution_count": 91,
     "metadata": {},
     "output_type": "execute_result"
    },
    {
     "data": {
      "image/png": "[encoded data removed]",
      "text/plain": [
       "<Figure size 432x288 with 1 Axes>"
      ]
     },
     "metadata": {
      "needs_background": "light"
     },
     "output_type": "display_data"
    }
   ],
   "source": [
    "import numpy as np\n",
    "# Независимая (x) и зависимая (y) переменные\n",
    "x = np.linspace(0, 10, 50)\n",
    "y = x\n",
    "\n",
    "# Построение графика\n",
    "plt.title(\"Линейная зависимость y = x\") # заголовок\n",
    "plt.xlabel(\"x\") # ось абсцисс\n",
    "plt.ylabel(\"y\") # ось ординат\n",
    "plt.grid()      # включение отображение сетки\n",
    "plt.plot(x, y)  # построение графика"
   ]
  },
  {
   "cell_type": "markdown",
   "metadata": {},
   "source": [
    "Изменим тип линии и ее цвет, для этого в функцию plot(), в качестве третьего параметра передадим строку, сформированную определенным образом, в нашем случае это “r–”, где “r” означает красный цвет, а “–” – тип линии – пунктирная линия."
   ]
  },
  {
   "cell_type": "code",
   "execution_count": 92,
   "metadata": {},
   "outputs": [
    {
     "data": {
      "text/plain": [
       "[<matplotlib.lines.Line2D at 0x7f673cdf3eb0>]"
      ]
     },
     "execution_count": 92,
     "metadata": {},
     "output_type": "execute_result"
    },
    {
     "data": {
      "image/png": "[encoded data removed]",
      "text/plain": [
       "<Figure size 432x288 with 1 Axes>"
      ]
     },
     "metadata": {
      "needs_background": "light"
     },
     "output_type": "display_data"
    }
   ],
   "source": [
    "# Построение графика\n",
    "plt.title(\"Линейная зависимость y = x\") # заголовок\n",
    "plt.xlabel(\"x\") # ось абсцисс\n",
    "plt.ylabel(\"y\") # ось ординат\n",
    "plt.grid()      # включение отображение сетки\n",
    "plt.plot(x, y, \"r--\")  # построение графика"
   ]
  },
  {
   "cell_type": "markdown",
   "metadata": {},
   "source": [
    "**Несколько графиков на одном поле**\n",
    "\n",
    "Построим несколько графиков на одном поле, для этого добавим квадратичную зависимость:"
   ]
  },
  {
   "cell_type": "code",
   "execution_count": 93,
   "metadata": {},
   "outputs": [
    {
     "data": {
      "text/plain": [
       "[<matplotlib.lines.Line2D at 0x7f673cf2ecd0>,\n",
       " <matplotlib.lines.Line2D at 0x7f673cf2edf0>]"
      ]
     },
     "execution_count": 93,
     "metadata": {},
     "output_type": "execute_result"
    },
    {
     "data": {
      "image/png": "[encoded data removed]",
      "text/plain": [
       "<Figure size 432x288 with 1 Axes>"
      ]
     },
     "metadata": {
      "needs_background": "light"
     },
     "output_type": "display_data"
    }
   ],
   "source": [
    "# Линейная зависимость\n",
    "x = np.linspace(0, 10, 50)\n",
    "y1 = x\n",
    "# Квадратичная зависимость\n",
    "y2 = [i**2 for i in x]\n",
    "# Построение графика\n",
    "plt.title(\"Зависимости: y1 = x, y2 = x^2\") # заголовок\n",
    "plt.xlabel(\"x\")         # ось абсцисс\n",
    "plt.ylabel(\"y1, y2\")    # ось ординат\n",
    "plt.grid()              # включение отображение сетки\n",
    "plt.plot(x, y1, x, y2)  # построение графика"
   ]
  },
  {
   "cell_type": "markdown",
   "metadata": {},
   "source": [
    "В приведенном примере в функцию plot() последовательно передаются два массива для построения первого графика и два массива для построения второго, при этом, как вы можете заметить, для обоих графиков массив значений независимой переменной x один и то же."
   ]
  },
  {
   "cell_type": "markdown",
   "metadata": {},
   "source": [
    "**Несколько разделенных полей с графиками**\n",
    "\n",
    "Третья, довольно часто встречающаяся задача – это отобразить два или более различных поля, на которых будет отображено по одному или более графику.\n",
    "\n",
    "Построим уже известные нам две зависимость на разных полях."
   ]
  },
  {
   "cell_type": "code",
   "execution_count": 94,
   "metadata": {},
   "outputs": [
    {
     "data": {
      "image/png": "[encoded data removed]",
      "text/plain": [
       "<Figure size 648x648 with 2 Axes>"
      ]
     },
     "metadata": {
      "needs_background": "light"
     },
     "output_type": "display_data"
    }
   ],
   "source": [
    "# Линейная зависимость\n",
    "x = np.linspace(0, 10, 50)\n",
    "y1 = x\n",
    "# Квадратичная зависимость\n",
    "y2 = [i**2 for i in x]\n",
    "# Построение графиков\n",
    "plt.figure(figsize=(9, 9))\n",
    "plt.subplot(2, 1, 1)\n",
    "plt.plot(x, y1)               # построение графика\n",
    "plt.title(\"Зависимости: y1 = x, y2 = x^2\") # заголовок\n",
    "plt.ylabel(\"y1\", fontsize=14) # ось ординат\n",
    "plt.grid(True)                # включение отображение сетки\n",
    "plt.subplot(2, 1, 2)\n",
    "plt.plot(x, y2)               # построение графика\n",
    "plt.xlabel(\"x\", fontsize=14)  # ось абсцисс\n",
    "plt.ylabel(\"y2\", fontsize=14) # ось ординат\n",
    "plt.grid(True)                # включение отображение сетки"
   ]
  },
  {
   "cell_type": "markdown",
   "metadata": {},
   "source": [
    "Здесь мы воспользовались новыми функциями: \n",
    "\n",
    "figure() – функция для задания глобальных параметров отображения графиков. В нее, в качестве аргумента, мы передаем кортеж, определяющий размер общего поля. \n",
    "\n",
    "subplot() – функция для задания местоположения поля с графиком. Существует несколько способов задания областей для вывода через функцию subplot() мы воспользовались следующим: первый аргумент – количество строк, второй – столбцов в формируемом поле, третий – индекс (номер поля, считаем сверху вниз, слева направо).\n",
    "\n",
    "Дополнительно мы использовали параметр fontsize для функций xlabel() и ylabel(), для задания размера шрифта."
   ]
  },
  {
   "cell_type": "markdown",
   "metadata": {},
   "source": [
    "**Точечная диаграмма (scatter plot)**"
   ]
  },
  {
   "cell_type": "code",
   "execution_count": 95,
   "metadata": {},
   "outputs": [
    {
     "name": "stdout",
     "output_type": "stream",
     "text": [
      "x [0.8300652  0.77897824 0.77980061 0.31781099 0.01731398 0.63336253\n",
      " 0.94897102 0.5119125  0.21491881 0.17070938 0.1499173  0.42272235\n",
      " 0.95569849 0.91469881 0.20421822 0.41720356 0.72565408 0.72746888\n",
      " 0.92422647 0.37141757 0.67861877 0.23555028 0.63242373 0.26944047\n",
      " 0.20115103 0.3998824  0.94189257 0.08292917 0.13179523 0.63201464\n",
      " 0.41473605 0.9114433  0.07712882 0.51537089 0.24439584 0.10030037\n",
      " 0.9366147  0.40803578 0.55045929 0.00428898 0.4509141  0.38082139\n",
      " 0.80328156 0.89938447 0.69906465 0.63181425 0.39763649 0.78809237\n",
      " 0.60705596 0.68748089]\n",
      "y [0.47335081 0.47351237 0.18860809 0.06570557 0.08526193 0.40929879\n",
      " 0.90550701 0.69023772 0.46468305 0.34785518 0.56530543 0.9221396\n",
      " 0.22692557 0.10759192 0.22714262 0.02091343 0.31898261 0.70992936\n",
      " 0.74987008 0.64983113 0.21190548 0.24682278 0.32423939 0.2716929\n",
      " 0.54682585 0.02471428 0.47958459 0.35838197 0.1900692  0.28942577\n",
      " 0.89673493 0.79111285 0.19850692 0.34019657 0.65961349 0.26088553\n",
      " 0.45169145 0.48960596 0.34353163 0.34441387 0.74893483 0.98014566\n",
      " 0.8328995  0.72641844 0.42379967 0.5725222  0.18289268 0.07799672\n",
      " 0.2173089  0.06324688]\n"
     ]
    },
    {
     "data": {
      "image/png": "[encoded data removed]",
      "text/plain": [
       "<Figure size 432x288 with 1 Axes>"
      ]
     },
     "metadata": {
      "needs_background": "light"
     },
     "output_type": "display_data"
    }
   ],
   "source": [
    "import numpy as np\n",
    "import matplotlib.pyplot as plt\n",
    "\n",
    "\n",
    "N = 50\n",
    "x = np.random.rand(N) # случайный вектор из 50 элементов\n",
    "print(\"x\", x)\n",
    "y = np.random.rand(N) # случайный вектор из 50 элементов\n",
    "print(\"y\", y)\n",
    "colors = np.random.rand(N) # случайный вектор из 50 элементов, чтобы задавать цвета каждой из точек\n",
    "area = (30 * np.random.rand(N))**2 # случайные площади каждой из точек\n",
    "\n",
    "plt.scatter(x, y, s=area, c=colors, alpha=0.5) # нанесение точек на диаграмму, x и y - координаты\n",
    "                                               # area - площади точек, colors - цвета точек\n",
    "                                               # alpha - значение прозрачности точек\n",
    "plt.show()"
   ]
  },
  {
   "cell_type": "markdown",
   "metadata": {},
   "source": [
    "**Пример с вычислением числа $\\pi$ с помощью метода Монте Карло и визуализация результатов**"
   ]
  },
  {
   "cell_type": "markdown",
   "metadata": {},
   "source": [
    "Переключим режим отображения графиков в notebook:"
   ]
  },
  {
   "cell_type": "code",
   "execution_count": 99,
   "metadata": {},
   "outputs": [],
   "source": [
    "%matplotlib notebook"
   ]
  },
  {
   "cell_type": "code",
   "execution_count": 100,
   "metadata": {},
   "outputs": [],
   "source": [
    "import matplotlib.pyplot as plt\n",
    "import numpy as np\n",
    "from matplotlib.axes import Axes\n",
    "from scipy.stats import norm\n",
    "\n",
    "class PiAnimation:\n",
    "    def __init__(self, ax: Axes, ax_pi: Axes, ax_gaus: Axes):\n",
    "        self.inner = 0\n",
    "        self.out = 0\n",
    "\n",
    "        self.xi, self.yi = [], []\n",
    "        self.xo, self.yo = [], []\n",
    "\n",
    "        ax.set_xlim(-1.0, 1.5)\n",
    "        ax.set_ylim(-1.0, 1.5)\n",
    "        ax.axis(\"off\")\n",
    "        ax.add_artist(plt.Circle((0.0, 0.0), 1, fill=False))\n",
    "        ax.add_artist(plt.Rectangle((-1, -1), 2, 2, fill=False))\n",
    "\n",
    "        self.line_i = ax.plot(self.xi, self.yi, \"ro\")[0]\n",
    "        self.line_o = ax.plot(self.xo, self.yo, \"bo\")[0]\n",
    "        self.text = ax.text(0.3, 1.1, \"\", fontdict={\"fontsize\": 32})\n",
    "        self.text_n = ax.text(-0.9, 1.1, \"\", fontdict={\"fontsize\": 32})\n",
    "\n",
    "        self.ax_pi = ax_pi\n",
    "        self.pi = []\n",
    "        self.pi_line = ax_pi.plot([], self.pi,\"-\")[0]\n",
    "        ax_pi.set_ylim(0, 2*np.pi)\n",
    "\n",
    "        self.ax_gaus = ax_gaus\n",
    "        self.gauss_point = np.linspace(0.5*np.pi, 1.5 * np.pi, 200)\n",
    "        self.gauss = ax_gaus.plot(self.gauss_point, np.zeros(200), \"\")[0]\n",
    "\n",
    "    def __call__(self, n):\n",
    "        x, y = 2*(np.random.random_sample(2) - 0.5)\n",
    "        if x ** 2 + y ** 2 <= 1:\n",
    "            self.inner += 1\n",
    "            self.xi.append(x)\n",
    "            self.yi.append(y)\n",
    "            self.line_i.set_data(self.xi, self.yi)\n",
    "        else:\n",
    "            self.out +=1\n",
    "            self.xo.append(x)\n",
    "            self.yo.append(y)\n",
    "            self.line_o.set_data(self.xo, self.yo)\n",
    "        N = self.inner + self.out\n",
    "        prob = self.inner/N\n",
    "        pi = 4*prob\n",
    "        self.pi.append(pi)\n",
    "        self.text.set_text(r\"$\\pi = {:.5}$\".format(pi))\n",
    "        self.text_n.set_text(\"N = {:5d}   \".format(N))\n",
    "\n",
    "        self.pi_line.set_data(range(N), self.pi)\n",
    "        self.ax_pi.relim()\n",
    "        self.ax_pi.autoscale()\n",
    "\n",
    "        mean, var = np.mean(self.pi), np.var(self.pi)\n",
    "\n",
    "        if N > 3:\n",
    "            self.gauss.set_data(self.gauss_point, norm.pdf(self.gauss_point, loc = mean, scale = var))\n",
    "            self.ax_gaus.relim()\n",
    "            self.ax_gaus.autoscale()\n",
    "        return self.line_i, self.line_o, self.text, self.text_n, self.pi_line, self.gauss"
   ]
  },
  {
   "cell_type": "code",
   "execution_count": 101,
   "metadata": {},
   "outputs": [
    {
     "data": {
      "application/javascript": [
       "/* Put everything inside the global mpl namespace */\n",
       "/* global mpl */\n",
       "window.mpl = {};\n",
       "\n",
       "mpl.get_websocket_type = function () {\n",
       "    if (typeof WebSocket !== 'undefined') {\n",
       "        return WebSocket;\n",
       "    } else if (typeof MozWebSocket !== 'undefined') {\n",
       "        return MozWebSocket;\n",
       "    } else {\n",
       "        alert(\n",
       "            'Your browser does not have WebSocket support. ' +\n",
       "                'Please try Chrome, Safari or Firefox ≥ 6. ' +\n",
       "                'Firefox 4 and 5 are also supported but you ' +\n",
       "                'have to enable WebSockets in about:config.'\n",
       "        );\n",
       "    }\n",
       "};\n",
       "\n",
       "mpl.figure = function (figure_id, websocket, ondownload, parent_element) {\n",
       "    this.id = figure_id;\n",
       "\n",
       "    this.ws = websocket;\n",
       "\n",
       "    this.supports_binary = this.ws.binaryType !== undefined;\n",
       "\n",
       "    if (!this.supports_binary) {\n",
       "        var warnings = document.getElementById('mpl-warnings');\n",
       "        if (warnings) {\n",
       "            warnings.style.display = 'block';\n",
       "            warnings.textContent =\n",
       "                'This browser does not support binary websocket messages. ' +\n",
       "                'Performance may be slow.';\n",
       "        }\n",
       "    }\n",
       "\n",
       "    this.imageObj = new Image();\n",
       "\n",
       "    this.context = undefined;\n",
       "    this.message = undefined;\n",
       "    this.canvas = undefined;\n",
       "    this.rubberband_canvas = undefined;\n",
       "    this.rubberband_context = undefined;\n",
       "    this.format_dropdown = undefined;\n",
       "\n",
       "    this.image_mode = 'full';\n",
       "\n",
       "    this.root = document.createElement('div');\n",
       "    this.root.setAttribute('style', 'display: inline-block');\n",
       "    this._root_extra_style(this.root);\n",
       "\n",
       "    parent_element.appendChild(this.root);\n",
       "\n",
       "    this._init_header(this);\n",
       "    this._init_canvas(this);\n",
       "    this._init_toolbar(this);\n",
       "\n",
       "    var fig = this;\n",
       "\n",
       "    this.waiting = false;\n",
       "\n",
       "    this.ws.onopen = function () {\n",
       "        fig.send_message('supports_binary', { value: fig.supports_binary });\n",
       "        fig.send_message('send_image_mode', {});\n",
       "        if (fig.ratio !== 1) {\n",
       "            fig.send_message('set_dpi_ratio', { dpi_ratio: fig.ratio });\n",
       "        }\n",
       "        fig.send_message('refresh', {});\n",
       "    };\n",
       "\n",
       "    this.imageObj.onload = function () {\n",
       "        if (fig.image_mode === 'full') {\n",
       "            // Full images could contain transparency (where diff images\n",
       "            // almost always do), so we need to clear the canvas so that\n",
       "            // there is no ghosting.\n",
       "            fig.context.clearRect(0, 0, fig.canvas.width, fig.canvas.height);\n",
       "        }\n",
       "        fig.context.drawImage(fig.imageObj, 0, 0);\n",
       "    };\n",
       "\n",
       "    this.imageObj.onunload = function () {\n",
       "        fig.ws.close();\n",
       "    };\n",
       "\n",
       "    this.ws.onmessage = this._make_on_message_function(this);\n",
       "\n",
       "    this.ondownload = ondownload;\n",
       "};\n",
       "\n",
       "mpl.figure.prototype._init_header = function () {\n",
       "    var titlebar = document.createElement('div');\n",
       "    titlebar.classList =\n",
       "        'ui-dialog-titlebar ui-widget-header ui-corner-all ui-helper-clearfix';\n",
       "    var titletext = document.createElement('div');\n",
       "    titletext.classList = 'ui-dialog-title';\n",
       "    titletext.setAttribute(\n",
       "        'style',\n",
       "        'width: 100%; text-align: center; padding: 3px;'\n",
       "    );\n",
       "    titlebar.appendChild(titletext);\n",
       "    this.root.appendChild(titlebar);\n",
       "    this.header = titletext;\n",
       "};\n",
       "\n",
       "mpl.figure.prototype._canvas_extra_style = function (_canvas_div) {};\n",
       "\n",
       "mpl.figure.prototype._root_extra_style = function (_canvas_div) {};\n",
       "\n",
       "mpl.figure.prototype._init_canvas = function () {\n",
       "    var fig = this;\n",
       "\n",
       "    var canvas_div = (this.canvas_div = document.createElement('div'));\n",
       "    canvas_div.setAttribute(\n",
       "        'style',\n",
       "        'border: 1px solid #ddd;' +\n",
       "            'box-sizing: content-box;' +\n",
       "            'clear: both;' +\n",
       "            'min-height: 1px;' +\n",
       "            'min-width: 1px;' +\n",
       "            'outline: 0;' +\n",
       "            'overflow: hidden;' +\n",
       "            'position: relative;' +\n",
       "            'resize: both;'\n",
       "    );\n",
       "\n",
       "    function on_keyboard_event_closure(name) {\n",
       "        return function (event) {\n",
       "            return fig.key_event(event, name);\n",
       "        };\n",
       "    }\n",
       "\n",
       "    canvas_div.addEventListener(\n",
       "        'keydown',\n",
       "        on_keyboard_event_closure('key_press')\n",
       "    );\n",
       "    canvas_div.addEventListener(\n",
       "        'keyup',\n",
       "        on_keyboard_event_closure('key_release')\n",
       "    );\n",
       "\n",
       "    this._canvas_extra_style(canvas_div);\n",
       "    this.root.appendChild(canvas_div);\n",
       "\n",
       "    var canvas = (this.canvas = document.createElement('canvas'));\n",
       "    canvas.classList.add('mpl-canvas');\n",
       "    canvas.setAttribute('style', 'box-sizing: content-box;');\n",
       "\n",
       "    this.context = canvas.getContext('2d');\n",
       "\n",
       "    var backingStore =\n",
       "        this.context.backingStorePixelRatio ||\n",
       "        this.context.webkitBackingStorePixelRatio ||\n",
       "        this.context.mozBackingStorePixelRatio ||\n",
       "        this.context.msBackingStorePixelRatio ||\n",
       "        this.context.oBackingStorePixelRatio ||\n",
       "        this.context.backingStorePixelRatio ||\n",
       "        1;\n",
       "\n",
       "    this.ratio = (window.devicePixelRatio || 1) / backingStore;\n",
       "\n",
       "    var rubberband_canvas = (this.rubberband_canvas = document.createElement(\n",
       "        'canvas'\n",
       "    ));\n",
       "    rubberband_canvas.setAttribute(\n",
       "        'style',\n",
       "        'box-sizing: content-box; position: absolute; left: 0; top: 0; z-index: 1;'\n",
       "    );\n",
       "\n",
       "    // Apply a ponyfill if ResizeObserver is not implemented by browser.\n",
       "    if (this.ResizeObserver === undefined) {\n",
       "        if (window.ResizeObserver !== undefined) {\n",
       "            this.ResizeObserver = window.ResizeObserver;\n",
       "        } else {\n",
       "            var obs = _JSXTOOLS_RESIZE_OBSERVER({});\n",
       "            this.ResizeObserver = obs.ResizeObserver;\n",
       "        }\n",
       "    }\n",
       "\n",
       "    this.resizeObserverInstance = new this.ResizeObserver(function (entries) {\n",
       "        var nentries = entries.length;\n",
       "        for (var i = 0; i < nentries; i++) {\n",
       "            var entry = entries[i];\n",
       "            var width, height;\n",
       "            if (entry.contentBoxSize) {\n",
       "                if (entry.contentBoxSize instanceof Array) {\n",
       "                    // Chrome 84 implements new version of spec.\n",
       "                    width = entry.contentBoxSize[0].inlineSize;\n",
       "                    height = entry.contentBoxSize[0].blockSize;\n",
       "                } else {\n",
       "                    // Firefox implements old version of spec.\n",
       "                    width = entry.contentBoxSize.inlineSize;\n",
       "                    height = entry.contentBoxSize.blockSize;\n",
       "                }\n",
       "            } else {\n",
       "                // Chrome <84 implements even older version of spec.\n",
       "                width = entry.contentRect.width;\n",
       "                height = entry.contentRect.height;\n",
       "            }\n",
       "\n",
       "            // Keep the size of the canvas and rubber band canvas in sync with\n",
       "            // the canvas container.\n",
       "            if (entry.devicePixelContentBoxSize) {\n",
       "                // Chrome 84 implements new version of spec.\n",
       "                canvas.setAttribute(\n",
       "                    'width',\n",
       "                    entry.devicePixelContentBoxSize[0].inlineSize\n",
       "                );\n",
       "                canvas.setAttribute(\n",
       "                    'height',\n",
       "                    entry.devicePixelContentBoxSize[0].blockSize\n",
       "                );\n",
       "            } else {\n",
       "                canvas.setAttribute('width', width * fig.ratio);\n",
       "                canvas.setAttribute('height', height * fig.ratio);\n",
       "            }\n",
       "            canvas.setAttribute(\n",
       "                'style',\n",
       "                'width: ' + width + 'px; height: ' + height + 'px;'\n",
       "            );\n",
       "\n",
       "            rubberband_canvas.setAttribute('width', width);\n",
       "            rubberband_canvas.setAttribute('height', height);\n",
       "\n",
       "            // And update the size in Python. We ignore the initial 0/0 size\n",
       "            // that occurs as the element is placed into the DOM, which should\n",
       "            // otherwise not happen due to the minimum size styling.\n",
       "            if (fig.ws.readyState == 1 && width != 0 && height != 0) {\n",
       "                fig.request_resize(width, height);\n",
       "            }\n",
       "        }\n",
       "    });\n",
       "    this.resizeObserverInstance.observe(canvas_div);\n",
       "\n",
       "    function on_mouse_event_closure(name) {\n",
       "        return function (event) {\n",
       "            return fig.mouse_event(event, name);\n",
       "        };\n",
       "    }\n",
       "\n",
       "    rubberband_canvas.addEventListener(\n",
       "        'mousedown',\n",
       "        on_mouse_event_closure('button_press')\n",
       "    );\n",
       "    rubberband_canvas.addEventListener(\n",
       "        'mouseup',\n",
       "        on_mouse_event_closure('button_release')\n",
       "    );\n",
       "    rubberband_canvas.addEventListener(\n",
       "        'dblclick',\n",
       "        on_mouse_event_closure('dblclick')\n",
       "    );\n",
       "    // Throttle sequential mouse events to 1 every 20ms.\n",
       "    rubberband_canvas.addEventListener(\n",
       "        'mousemove',\n",
       "        on_mouse_event_closure('motion_notify')\n",
       "    );\n",
       "\n",
       "    rubberband_canvas.addEventListener(\n",
       "        'mouseenter',\n",
       "        on_mouse_event_closure('figure_enter')\n",
       "    );\n",
       "    rubberband_canvas.addEventListener(\n",
       "        'mouseleave',\n",
       "        on_mouse_event_closure('figure_leave')\n",
       "    );\n",
       "\n",
       "    canvas_div.addEventListener('wheel', function (event) {\n",
       "        if (event.deltaY < 0) {\n",
       "            event.step = 1;\n",
       "        } else {\n",
       "            event.step = -1;\n",
       "        }\n",
       "        on_mouse_event_closure('scroll')(event);\n",
       "    });\n",
       "\n",
       "    canvas_div.appendChild(canvas);\n",
       "    canvas_div.appendChild(rubberband_canvas);\n",
       "\n",
       "    this.rubberband_context = rubberband_canvas.getContext('2d');\n",
       "    this.rubberband_context.strokeStyle = '#000000';\n",
       "\n",
       "    this._resize_canvas = function (width, height, forward) {\n",
       "        if (forward) {\n",
       "            canvas_div.style.width = width + 'px';\n",
       "            canvas_div.style.height = height + 'px';\n",
       "        }\n",
       "    };\n",
       "\n",
       "    // Disable right mouse context menu.\n",
       "    this.rubberband_canvas.addEventListener('contextmenu', function (_e) {\n",
       "        event.preventDefault();\n",
       "        return false;\n",
       "    });\n",
       "\n",
       "    function set_focus() {\n",
       "        canvas.focus();\n",
       "        canvas_div.focus();\n",
       "    }\n",
       "\n",
       "    window.setTimeout(set_focus, 100);\n",
       "};\n",
       "\n",
       "mpl.figure.prototype._init_toolbar = function () {\n",
       "    var fig = this;\n",
       "\n",
       "    var toolbar = document.createElement('div');\n",
       "    toolbar.classList = 'mpl-toolbar';\n",
       "    this.root.appendChild(toolbar);\n",
       "\n",
       "    function on_click_closure(name) {\n",
       "        return function (_event) {\n",
       "            return fig.toolbar_button_onclick(name);\n",
       "        };\n",
       "    }\n",
       "\n",
       "    function on_mouseover_closure(tooltip) {\n",
       "        return function (event) {\n",
       "            if (!event.currentTarget.disabled) {\n",
       "                return fig.toolbar_button_onmouseover(tooltip);\n",
       "            }\n",
       "        };\n",
       "    }\n",
       "\n",
       "    fig.buttons = {};\n",
       "    var buttonGroup = document.createElement('div');\n",
       "    buttonGroup.classList = 'mpl-button-group';\n",
       "    for (var toolbar_ind in mpl.toolbar_items) {\n",
       "        var name = mpl.toolbar_items[toolbar_ind][0];\n",
       "        var tooltip = mpl.toolbar_items[toolbar_ind][1];\n",
       "        var image = mpl.toolbar_items[toolbar_ind][2];\n",
       "        var method_name = mpl.toolbar_items[toolbar_ind][3];\n",
       "\n",
       "        if (!name) {\n",
       "            /* Instead of a spacer, we start a new button group. */\n",
       "            if (buttonGroup.hasChildNodes()) {\n",
       "                toolbar.appendChild(buttonGroup);\n",
       "            }\n",
       "            buttonGroup = document.createElement('div');\n",
       "            buttonGroup.classList = 'mpl-button-group';\n",
       "            continue;\n",
       "        }\n",
       "\n",
       "        var button = (fig.buttons[name] = document.createElement('button'));\n",
       "        button.classList = 'mpl-widget';\n",
       "        button.setAttribute('role', 'button');\n",
       "        button.setAttribute('aria-disabled', 'false');\n",
       "        button.addEventListener('click', on_click_closure(method_name));\n",
       "        button.addEventListener('mouseover', on_mouseover_closure(tooltip));\n",
       "\n",
       "        var icon_img = document.createElement('img');\n",
       "        icon_img.src = '_images/' + image + '.png';\n",
       "        icon_img.srcset = '_images/' + image + '_large.png 2x';\n",
       "        icon_img.alt = tooltip;\n",
       "        button.appendChild(icon_img);\n",
       "\n",
       "        buttonGroup.appendChild(button);\n",
       "    }\n",
       "\n",
       "    if (buttonGroup.hasChildNodes()) {\n",
       "        toolbar.appendChild(buttonGroup);\n",
       "    }\n",
       "\n",
       "    var fmt_picker = document.createElement('select');\n",
       "    fmt_picker.classList = 'mpl-widget';\n",
       "    toolbar.appendChild(fmt_picker);\n",
       "    this.format_dropdown = fmt_picker;\n",
       "\n",
       "    for (var ind in mpl.extensions) {\n",
       "        var fmt = mpl.extensions[ind];\n",
       "        var option = document.createElement('option');\n",
       "        option.selected = fmt === mpl.default_extension;\n",
       "        option.innerHTML = fmt;\n",
       "        fmt_picker.appendChild(option);\n",
       "    }\n",
       "\n",
       "    var status_bar = document.createElement('span');\n",
       "    status_bar.classList = 'mpl-message';\n",
       "    toolbar.appendChild(status_bar);\n",
       "    this.message = status_bar;\n",
       "};\n",
       "\n",
       "mpl.figure.prototype.request_resize = function (x_pixels, y_pixels) {\n",
       "    // Request matplotlib to resize the figure. Matplotlib will then trigger a resize in the client,\n",
       "    // which will in turn request a refresh of the image.\n",
       "    this.send_message('resize', { width: x_pixels, height: y_pixels });\n",
       "};\n",
       "\n",
       "mpl.figure.prototype.send_message = function (type, properties) {\n",
       "    properties['type'] = type;\n",
       "    properties['figure_id'] = this.id;\n",
       "    this.ws.send(JSON.stringify(properties));\n",
       "};\n",
       "\n",
       "mpl.figure.prototype.send_draw_message = function () {\n",
       "    if (!this.waiting) {\n",
       "        this.waiting = true;\n",
       "        this.ws.send(JSON.stringify({ type: 'draw', figure_id: this.id }));\n",
       "    }\n",
       "};\n",
       "\n",
       "mpl.figure.prototype.handle_save = function (fig, _msg) {\n",
       "    var format_dropdown = fig.format_dropdown;\n",
       "    var format = format_dropdown.options[format_dropdown.selectedIndex].value;\n",
       "    fig.ondownload(fig, format);\n",
       "};\n",
       "\n",
       "mpl.figure.prototype.handle_resize = function (fig, msg) {\n",
       "    var size = msg['size'];\n",
       "    if (size[0] !== fig.canvas.width || size[1] !== fig.canvas.height) {\n",
       "        fig._resize_canvas(size[0], size[1], msg['forward']);\n",
       "        fig.send_message('refresh', {});\n",
       "    }\n",
       "};\n",
       "\n",
       "mpl.figure.prototype.handle_rubberband = function (fig, msg) {\n",
       "    var x0 = msg['x0'] / fig.ratio;\n",
       "    var y0 = (fig.canvas.height - msg['y0']) / fig.ratio;\n",
       "    var x1 = msg['x1'] / fig.ratio;\n",
       "    var y1 = (fig.canvas.height - msg['y1']) / fig.ratio;\n",
       "    x0 = Math.floor(x0) + 0.5;\n",
       "    y0 = Math.floor(y0) + 0.5;\n",
       "    x1 = Math.floor(x1) + 0.5;\n",
       "    y1 = Math.floor(y1) + 0.5;\n",
       "    var min_x = Math.min(x0, x1);\n",
       "    var min_y = Math.min(y0, y1);\n",
       "    var width = Math.abs(x1 - x0);\n",
       "    var height = Math.abs(y1 - y0);\n",
       "\n",
       "    fig.rubberband_context.clearRect(\n",
       "        0,\n",
       "        0,\n",
       "        fig.canvas.width / fig.ratio,\n",
       "        fig.canvas.height / fig.ratio\n",
       "    );\n",
       "\n",
       "    fig.rubberband_context.strokeRect(min_x, min_y, width, height);\n",
       "};\n",
       "\n",
       "mpl.figure.prototype.handle_figure_label = function (fig, msg) {\n",
       "    // Updates the figure title.\n",
       "    fig.header.textContent = msg['label'];\n",
       "};\n",
       "\n",
       "mpl.figure.prototype.handle_cursor = function (fig, msg) {\n",
       "    var cursor = msg['cursor'];\n",
       "    switch (cursor) {\n",
       "        case 0:\n",
       "            cursor = 'pointer';\n",
       "            break;\n",
       "        case 1:\n",
       "            cursor = 'default';\n",
       "            break;\n",
       "        case 2:\n",
       "            cursor = 'crosshair';\n",
       "            break;\n",
       "        case 3:\n",
       "            cursor = 'move';\n",
       "            break;\n",
       "    }\n",
       "    fig.rubberband_canvas.style.cursor = cursor;\n",
       "};\n",
       "\n",
       "mpl.figure.prototype.handle_message = function (fig, msg) {\n",
       "    fig.message.textContent = msg['message'];\n",
       "};\n",
       "\n",
       "mpl.figure.prototype.handle_draw = function (fig, _msg) {\n",
       "    // Request the server to send over a new figure.\n",
       "    fig.send_draw_message();\n",
       "};\n",
       "\n",
       "mpl.figure.prototype.handle_image_mode = function (fig, msg) {\n",
       "    fig.image_mode = msg['mode'];\n",
       "};\n",
       "\n",
       "mpl.figure.prototype.handle_history_buttons = function (fig, msg) {\n",
       "    for (var key in msg) {\n",
       "        if (!(key in fig.buttons)) {\n",
       "            continue;\n",
       "        }\n",
       "        fig.buttons[key].disabled = !msg[key];\n",
       "        fig.buttons[key].setAttribute('aria-disabled', !msg[key]);\n",
       "    }\n",
       "};\n",
       "\n",
       "mpl.figure.prototype.handle_navigate_mode = function (fig, msg) {\n",
       "    if (msg['mode'] === 'PAN') {\n",
       "        fig.buttons['Pan'].classList.add('active');\n",
       "        fig.buttons['Zoom'].classList.remove('active');\n",
       "    } else if (msg['mode'] === 'ZOOM') {\n",
       "        fig.buttons['Pan'].classList.remove('active');\n",
       "        fig.buttons['Zoom'].classList.add('active');\n",
       "    } else {\n",
       "        fig.buttons['Pan'].classList.remove('active');\n",
       "        fig.buttons['Zoom'].classList.remove('active');\n",
       "    }\n",
       "};\n",
       "\n",
       "mpl.figure.prototype.updated_canvas_event = function () {\n",
       "    // Called whenever the canvas gets updated.\n",
       "    this.send_message('ack', {});\n",
       "};\n",
       "\n",
       "// A function to construct a web socket function for onmessage handling.\n",
       "// Called in the figure constructor.\n",
       "mpl.figure.prototype._make_on_message_function = function (fig) {\n",
       "    return function socket_on_message(evt) {\n",
       "        if (evt.data instanceof Blob) {\n",
       "            var img = evt.data;\n",
       "            if (img.type !== 'image/png') {\n",
       "                /* FIXME: We get \"Resource interpreted as Image but\n",
       "                 * transferred with MIME type text/plain:\" errors on\n",
       "                 * Chrome.  But how to set the MIME type?  It doesn't seem\n",
       "                 * to be part of the websocket stream */\n",
       "                img.type = 'image/png';\n",
       "            }\n",
       "\n",
       "            /* Free the memory for the previous frames */\n",
       "            if (fig.imageObj.src) {\n",
       "                (window.URL || window.webkitURL).revokeObjectURL(\n",
       "                    fig.imageObj.src\n",
       "                );\n",
       "            }\n",
       "\n",
       "            fig.imageObj.src = (window.URL || window.webkitURL).createObjectURL(\n",
       "                img\n",
       "            );\n",
       "            fig.updated_canvas_event();\n",
       "            fig.waiting = false;\n",
       "            return;\n",
       "        } else if (\n",
       "            typeof evt.data === 'string' &&\n",
       "            evt.data.slice(0, 21) === 'data:image/png;base64'\n",
       "        ) {\n",
       "            fig.imageObj.src = evt.data;\n",
       "            fig.updated_canvas_event();\n",
       "            fig.waiting = false;\n",
       "            return;\n",
       "        }\n",
       "\n",
       "        var msg = JSON.parse(evt.data);\n",
       "        var msg_type = msg['type'];\n",
       "\n",
       "        // Call the  \"handle_{type}\" callback, which takes\n",
       "        // the figure and JSON message as its only arguments.\n",
       "        try {\n",
       "            var callback = fig['handle_' + msg_type];\n",
       "        } catch (e) {\n",
       "            console.log(\n",
       "                \"No handler for the '\" + msg_type + \"' message type: \",\n",
       "                msg\n",
       "            );\n",
       "            return;\n",
       "        }\n",
       "\n",
       "        if (callback) {\n",
       "            try {\n",
       "                // console.log(\"Handling '\" + msg_type + \"' message: \", msg);\n",
       "                callback(fig, msg);\n",
       "            } catch (e) {\n",
       "                console.log(\n",
       "                    \"Exception inside the 'handler_\" + msg_type + \"' callback:\",\n",
       "                    e,\n",
       "                    e.stack,\n",
       "                    msg\n",
       "                );\n",
       "            }\n",
       "        }\n",
       "    };\n",
       "};\n",
       "\n",
       "// from http://stackoverflow.com/questions/1114465/getting-mouse-location-in-canvas\n",
       "mpl.findpos = function (e) {\n",
       "    //this section is from http://www.quirksmode.org/js/events_properties.html\n",
       "    var targ;\n",
       "    if (!e) {\n",
       "        e = window.event;\n",
       "    }\n",
       "    if (e.target) {\n",
       "        targ = e.target;\n",
       "    } else if (e.srcElement) {\n",
       "        targ = e.srcElement;\n",
       "    }\n",
       "    if (targ.nodeType === 3) {\n",
       "        // defeat Safari bug\n",
       "        targ = targ.parentNode;\n",
       "    }\n",
       "\n",
       "    // pageX,Y are the mouse positions relative to the document\n",
       "    var boundingRect = targ.getBoundingClientRect();\n",
       "    var x = e.pageX - (boundingRect.left + document.body.scrollLeft);\n",
       "    var y = e.pageY - (boundingRect.top + document.body.scrollTop);\n",
       "\n",
       "    return { x: x, y: y };\n",
       "};\n",
       "\n",
       "/*\n",
       " * return a copy of an object with only non-object keys\n",
       " * we need this to avoid circular references\n",
       " * http://stackoverflow.com/a/24161582/3208463\n",
       " */\n",
       "function simpleKeys(original) {\n",
       "    return Object.keys(original).reduce(function (obj, key) {\n",
       "        if (typeof original[key] !== 'object') {\n",
       "            obj[key] = original[key];\n",
       "        }\n",
       "        return obj;\n",
       "    }, {});\n",
       "}\n",
       "\n",
       "mpl.figure.prototype.mouse_event = function (event, name) {\n",
       "    var canvas_pos = mpl.findpos(event);\n",
       "\n",
       "    if (name === 'button_press') {\n",
       "        this.canvas.focus();\n",
       "        this.canvas_div.focus();\n",
       "    }\n",
       "\n",
       "    var x = canvas_pos.x * this.ratio;\n",
       "    var y = canvas_pos.y * this.ratio;\n",
       "\n",
       "    this.send_message(name, {\n",
       "        x: x,\n",
       "        y: y,\n",
       "        button: event.button,\n",
       "        step: event.step,\n",
       "        guiEvent: simpleKeys(event),\n",
       "    });\n",
       "\n",
       "    /* This prevents the web browser from automatically changing to\n",
       "     * the text insertion cursor when the button is pressed.  We want\n",
       "     * to control all of the cursor setting manually through the\n",
       "     * 'cursor' event from matplotlib */\n",
       "    event.preventDefault();\n",
       "    return false;\n",
       "};\n",
       "\n",
       "mpl.figure.prototype._key_event_extra = function (_event, _name) {\n",
       "    // Handle any extra behaviour associated with a key event\n",
       "};\n",
       "\n",
       "mpl.figure.prototype.key_event = function (event, name) {\n",
       "    // Prevent repeat events\n",
       "    if (name === 'key_press') {\n",
       "        if (event.key === this._key) {\n",
       "            return;\n",
       "        } else {\n",
       "            this._key = event.key;\n",
       "        }\n",
       "    }\n",
       "    if (name === 'key_release') {\n",
       "        this._key = null;\n",
       "    }\n",
       "\n",
       "    var value = '';\n",
       "    if (event.ctrlKey && event.key !== 'Control') {\n",
       "        value += 'ctrl+';\n",
       "    }\n",
       "    else if (event.altKey && event.key !== 'Alt') {\n",
       "        value += 'alt+';\n",
       "    }\n",
       "    else if (event.shiftKey && event.key !== 'Shift') {\n",
       "        value += 'shift+';\n",
       "    }\n",
       "\n",
       "    value += 'k' + event.key;\n",
       "\n",
       "    this._key_event_extra(event, name);\n",
       "\n",
       "    this.send_message(name, { key: value, guiEvent: simpleKeys(event) });\n",
       "    return false;\n",
       "};\n",
       "\n",
       "mpl.figure.prototype.toolbar_button_onclick = function (name) {\n",
       "    if (name === 'download') {\n",
       "        this.handle_save(this, null);\n",
       "    } else {\n",
       "        this.send_message('toolbar_button', { name: name });\n",
       "    }\n",
       "};\n",
       "\n",
       "mpl.figure.prototype.toolbar_button_onmouseover = function (tooltip) {\n",
       "    this.message.textContent = tooltip;\n",
       "};\n",
       "\n",
       "///////////////// REMAINING CONTENT GENERATED BY embed_js.py /////////////////\n",
       "// prettier-ignore\n",
       "var _JSXTOOLS_RESIZE_OBSERVER=function(A){var t,i=new WeakMap,n=new WeakMap,a=new WeakMap,r=new WeakMap,o=new Set;function s(e){if(!(this instanceof s))throw new TypeError(\"Constructor requires 'new' operator\");i.set(this,e)}function h(){throw new TypeError(\"Function is not a constructor\")}function c(e,t,i,n){e=0 in arguments?Number(arguments[0]):0,t=1 in arguments?Number(arguments[1]):0,i=2 in arguments?Number(arguments[2]):0,n=3 in arguments?Number(arguments[3]):0,this.right=(this.x=this.left=e)+(this.width=i),this.bottom=(this.y=this.top=t)+(this.height=n),Object.freeze(this)}function d(){t=requestAnimationFrame(d);var s=new WeakMap,p=new Set;o.forEach((function(t){r.get(t).forEach((function(i){var r=t instanceof window.SVGElement,o=a.get(t),d=r?0:parseFloat(o.paddingTop),f=r?0:parseFloat(o.paddingRight),l=r?0:parseFloat(o.paddingBottom),u=r?0:parseFloat(o.paddingLeft),g=r?0:parseFloat(o.borderTopWidth),m=r?0:parseFloat(o.borderRightWidth),w=r?0:parseFloat(o.borderBottomWidth),b=u+f,F=d+l,v=(r?0:parseFloat(o.borderLeftWidth))+m,W=g+w,y=r?0:t.offsetHeight-W-t.clientHeight,E=r?0:t.offsetWidth-v-t.clientWidth,R=b+v,z=F+W,M=r?t.width:parseFloat(o.width)-R-E,O=r?t.height:parseFloat(o.height)-z-y;if(n.has(t)){var k=n.get(t);if(k[0]===M&&k[1]===O)return}n.set(t,[M,O]);var S=Object.create(h.prototype);S.target=t,S.contentRect=new c(u,d,M,O),s.has(i)||(s.set(i,[]),p.add(i)),s.get(i).push(S)}))})),p.forEach((function(e){i.get(e).call(e,s.get(e),e)}))}return s.prototype.observe=function(i){if(i instanceof window.Element){r.has(i)||(r.set(i,new Set),o.add(i),a.set(i,window.getComputedStyle(i)));var n=r.get(i);n.has(this)||n.add(this),cancelAnimationFrame(t),t=requestAnimationFrame(d)}},s.prototype.unobserve=function(i){if(i instanceof window.Element&&r.has(i)){var n=r.get(i);n.has(this)&&(n.delete(this),n.size||(r.delete(i),o.delete(i))),n.size||r.delete(i),o.size||cancelAnimationFrame(t)}},A.DOMRectReadOnly=c,A.ResizeObserver=s,A.ResizeObserverEntry=h,A}; // eslint-disable-line\n",
       "mpl.toolbar_items = [[\"Home\", \"Reset original view\", \"fa fa-home icon-home\", \"home\"], [\"Back\", \"Back to previous view\", \"fa fa-arrow-left icon-arrow-left\", \"back\"], [\"Forward\", \"Forward to next view\", \"fa fa-arrow-right icon-arrow-right\", \"forward\"], [\"\", \"\", \"\", \"\"], [\"Pan\", \"Left button pans, Right button zooms\\nx/y fixes axis, CTRL fixes aspect\", \"fa fa-arrows icon-move\", \"pan\"], [\"Zoom\", \"Zoom to rectangle\\nx/y fixes axis, CTRL fixes aspect\", \"fa fa-square-o icon-check-empty\", \"zoom\"], [\"\", \"\", \"\", \"\"], [\"Download\", \"Download plot\", \"fa fa-floppy-o icon-save\", \"download\"]];\n",
       "\n",
       "mpl.extensions = [\"eps\", \"jpeg\", \"pgf\", \"pdf\", \"png\", \"ps\", \"raw\", \"svg\", \"tif\"];\n",
       "\n",
       "mpl.default_extension = \"png\";/* global mpl */\n",
       "\n",
       "var comm_websocket_adapter = function (comm) {\n",
       "    // Create a \"websocket\"-like object which calls the given IPython comm\n",
       "    // object with the appropriate methods. Currently this is a non binary\n",
       "    // socket, so there is still some room for performance tuning.\n",
       "    var ws = {};\n",
       "\n",
       "    ws.binaryType = comm.kernel.ws.binaryType;\n",
       "    ws.readyState = comm.kernel.ws.readyState;\n",
       "    function updateReadyState(_event) {\n",
       "        if (comm.kernel.ws) {\n",
       "            ws.readyState = comm.kernel.ws.readyState;\n",
       "        } else {\n",
       "            ws.readyState = 3; // Closed state.\n",
       "        }\n",
       "    }\n",
       "    comm.kernel.ws.addEventListener('open', updateReadyState);\n",
       "    comm.kernel.ws.addEventListener('close', updateReadyState);\n",
       "    comm.kernel.ws.addEventListener('error', updateReadyState);\n",
       "\n",
       "    ws.close = function () {\n",
       "        comm.close();\n",
       "    };\n",
       "    ws.send = function (m) {\n",
       "        //console.log('sending', m);\n",
       "        comm.send(m);\n",
       "    };\n",
       "    // Register the callback with on_msg.\n",
       "    comm.on_msg(function (msg) {\n",
       "        //console.log('receiving', msg['content']['data'], msg);\n",
       "        var data = msg['content']['data'];\n",
       "        if (data['blob'] !== undefined) {\n",
       "            data = {\n",
       "                data: new Blob(msg['buffers'], { type: data['blob'] }),\n",
       "            };\n",
       "        }\n",
       "        // Pass the mpl event to the overridden (by mpl) onmessage function.\n",
       "        ws.onmessage(data);\n",
       "    });\n",
       "    return ws;\n",
       "};\n",
       "\n",
       "mpl.mpl_figure_comm = function (comm, msg) {\n",
       "    // This is the function which gets called when the mpl process\n",
       "    // starts-up an IPython Comm through the \"matplotlib\" channel.\n",
       "\n",
       "    var id = msg.content.data.id;\n",
       "    // Get hold of the div created by the display call when the Comm\n",
       "    // socket was opened in Python.\n",
       "    var element = document.getElementById(id);\n",
       "    var ws_proxy = comm_websocket_adapter(comm);\n",
       "\n",
       "    function ondownload(figure, _format) {\n",
       "        window.open(figure.canvas.toDataURL());\n",
       "    }\n",
       "\n",
       "    var fig = new mpl.figure(id, ws_proxy, ondownload, element);\n",
       "\n",
       "    // Call onopen now - mpl needs it, as it is assuming we've passed it a real\n",
       "    // web socket which is closed, not our websocket->open comm proxy.\n",
       "    ws_proxy.onopen();\n",
       "\n",
       "    fig.parent_element = element;\n",
       "    fig.cell_info = mpl.find_output_cell(\"<div id='\" + id + \"'></div>\");\n",
       "    if (!fig.cell_info) {\n",
       "        console.error('Failed to find cell for figure', id, fig);\n",
       "        return;\n",
       "    }\n",
       "    fig.cell_info[0].output_area.element.on(\n",
       "        'cleared',\n",
       "        { fig: fig },\n",
       "        fig._remove_fig_handler\n",
       "    );\n",
       "};\n",
       "\n",
       "mpl.figure.prototype.handle_close = function (fig, msg) {\n",
       "    var width = fig.canvas.width / fig.ratio;\n",
       "    fig.cell_info[0].output_area.element.off(\n",
       "        'cleared',\n",
       "        fig._remove_fig_handler\n",
       "    );\n",
       "    fig.resizeObserverInstance.unobserve(fig.canvas_div);\n",
       "\n",
       "    // Update the output cell to use the data from the current canvas.\n",
       "    fig.push_to_output();\n",
       "    var dataURL = fig.canvas.toDataURL();\n",
       "    // Re-enable the keyboard manager in IPython - without this line, in FF,\n",
       "    // the notebook keyboard shortcuts fail.\n",
       "    IPython.keyboard_manager.enable();\n",
       "    fig.parent_element.innerHTML =\n",
       "        '<img src=\"' + dataURL + '\" width=\"' + width + '\">';\n",
       "    fig.close_ws(fig, msg);\n",
       "};\n",
       "\n",
       "mpl.figure.prototype.close_ws = function (fig, msg) {\n",
       "    fig.send_message('closing', msg);\n",
       "    // fig.ws.close()\n",
       "};\n",
       "\n",
       "mpl.figure.prototype.push_to_output = function (_remove_interactive) {\n",
       "    // Turn the data on the canvas into data in the output cell.\n",
       "    var width = this.canvas.width / this.ratio;\n",
       "    var dataURL = this.canvas.toDataURL();\n",
       "    this.cell_info[1]['text/html'] =\n",
       "        '<img src=\"' + dataURL + '\" width=\"' + width + '\">';\n",
       "};\n",
       "\n",
       "mpl.figure.prototype.updated_canvas_event = function () {\n",
       "    // Tell IPython that the notebook contents must change.\n",
       "    IPython.notebook.set_dirty(true);\n",
       "    this.send_message('ack', {});\n",
       "    var fig = this;\n",
       "    // Wait a second, then push the new image to the DOM so\n",
       "    // that it is saved nicely (might be nice to debounce this).\n",
       "    setTimeout(function () {\n",
       "        fig.push_to_output();\n",
       "    }, 1000);\n",
       "};\n",
       "\n",
       "mpl.figure.prototype._init_toolbar = function () {\n",
       "    var fig = this;\n",
       "\n",
       "    var toolbar = document.createElement('div');\n",
       "    toolbar.classList = 'btn-toolbar';\n",
       "    this.root.appendChild(toolbar);\n",
       "\n",
       "    function on_click_closure(name) {\n",
       "        return function (_event) {\n",
       "            return fig.toolbar_button_onclick(name);\n",
       "        };\n",
       "    }\n",
       "\n",
       "    function on_mouseover_closure(tooltip) {\n",
       "        return function (event) {\n",
       "            if (!event.currentTarget.disabled) {\n",
       "                return fig.toolbar_button_onmouseover(tooltip);\n",
       "            }\n",
       "        };\n",
       "    }\n",
       "\n",
       "    fig.buttons = {};\n",
       "    var buttonGroup = document.createElement('div');\n",
       "    buttonGroup.classList = 'btn-group';\n",
       "    var button;\n",
       "    for (var toolbar_ind in mpl.toolbar_items) {\n",
       "        var name = mpl.toolbar_items[toolbar_ind][0];\n",
       "        var tooltip = mpl.toolbar_items[toolbar_ind][1];\n",
       "        var image = mpl.toolbar_items[toolbar_ind][2];\n",
       "        var method_name = mpl.toolbar_items[toolbar_ind][3];\n",
       "\n",
       "        if (!name) {\n",
       "            /* Instead of a spacer, we start a new button group. */\n",
       "            if (buttonGroup.hasChildNodes()) {\n",
       "                toolbar.appendChild(buttonGroup);\n",
       "            }\n",
       "            buttonGroup = document.createElement('div');\n",
       "            buttonGroup.classList = 'btn-group';\n",
       "            continue;\n",
       "        }\n",
       "\n",
       "        button = fig.buttons[name] = document.createElement('button');\n",
       "        button.classList = 'btn btn-default';\n",
       "        button.href = '#';\n",
       "        button.title = name;\n",
       "        button.innerHTML = '<i class=\"fa ' + image + ' fa-lg\"></i>';\n",
       "        button.addEventListener('click', on_click_closure(method_name));\n",
       "        button.addEventListener('mouseover', on_mouseover_closure(tooltip));\n",
       "        buttonGroup.appendChild(button);\n",
       "    }\n",
       "\n",
       "    if (buttonGroup.hasChildNodes()) {\n",
       "        toolbar.appendChild(buttonGroup);\n",
       "    }\n",
       "\n",
       "    // Add the status bar.\n",
       "    var status_bar = document.createElement('span');\n",
       "    status_bar.classList = 'mpl-message pull-right';\n",
       "    toolbar.appendChild(status_bar);\n",
       "    this.message = status_bar;\n",
       "\n",
       "    // Add the close button to the window.\n",
       "    var buttongrp = document.createElement('div');\n",
       "    buttongrp.classList = 'btn-group inline pull-right';\n",
       "    button = document.createElement('button');\n",
       "    button.classList = 'btn btn-mini btn-primary';\n",
       "    button.href = '#';\n",
       "    button.title = 'Stop Interaction';\n",
       "    button.innerHTML = '<i class=\"fa fa-power-off icon-remove icon-large\"></i>';\n",
       "    button.addEventListener('click', function (_evt) {\n",
       "        fig.handle_close(fig, {});\n",
       "    });\n",
       "    button.addEventListener(\n",
       "        'mouseover',\n",
       "        on_mouseover_closure('Stop Interaction')\n",
       "    );\n",
       "    buttongrp.appendChild(button);\n",
       "    var titlebar = this.root.querySelector('.ui-dialog-titlebar');\n",
       "    titlebar.insertBefore(buttongrp, titlebar.firstChild);\n",
       "};\n",
       "\n",
       "mpl.figure.prototype._remove_fig_handler = function (event) {\n",
       "    var fig = event.data.fig;\n",
       "    if (event.target !== this) {\n",
       "        // Ignore bubbled events from children.\n",
       "        return;\n",
       "    }\n",
       "    fig.close_ws(fig, {});\n",
       "};\n",
       "\n",
       "mpl.figure.prototype._root_extra_style = function (el) {\n",
       "    el.style.boxSizing = 'content-box'; // override notebook setting of border-box.\n",
       "};\n",
       "\n",
       "mpl.figure.prototype._canvas_extra_style = function (el) {\n",
       "    // this is important to make the div 'focusable\n",
       "    el.setAttribute('tabindex', 0);\n",
       "    // reach out to IPython and tell the keyboard manager to turn it's self\n",
       "    // off when our div gets focus\n",
       "\n",
       "    // location in version 3\n",
       "    if (IPython.notebook.keyboard_manager) {\n",
       "        IPython.notebook.keyboard_manager.register_events(el);\n",
       "    } else {\n",
       "        // location in version 2\n",
       "        IPython.keyboard_manager.register_events(el);\n",
       "    }\n",
       "};\n",
       "\n",
       "mpl.figure.prototype._key_event_extra = function (event, _name) {\n",
       "    var manager = IPython.notebook.keyboard_manager;\n",
       "    if (!manager) {\n",
       "        manager = IPython.keyboard_manager;\n",
       "    }\n",
       "\n",
       "    // Check for shift+enter\n",
       "    if (event.shiftKey && event.which === 13) {\n",
       "        this.canvas_div.blur();\n",
       "        // select the cell after this one\n",
       "        var index = IPython.notebook.find_cell_index(this.cell_info[0]);\n",
       "        IPython.notebook.select(index + 1);\n",
       "    }\n",
       "};\n",
       "\n",
       "mpl.figure.prototype.handle_save = function (fig, _msg) {\n",
       "    fig.ondownload(fig, null);\n",
       "};\n",
       "\n",
       "mpl.find_output_cell = function (html_output) {\n",
       "    // Return the cell and output element which can be found *uniquely* in the notebook.\n",
       "    // Note - this is a bit hacky, but it is done because the \"notebook_saving.Notebook\"\n",
       "    // IPython event is triggered only after the cells have been serialised, which for\n",
       "    // our purposes (turning an active figure into a static one), is too late.\n",
       "    var cells = IPython.notebook.get_cells();\n",
       "    var ncells = cells.length;\n",
       "    for (var i = 0; i < ncells; i++) {\n",
       "        var cell = cells[i];\n",
       "        if (cell.cell_type === 'code') {\n",
       "            for (var j = 0; j < cell.output_area.outputs.length; j++) {\n",
       "                var data = cell.output_area.outputs[j];\n",
       "                if (data.data) {\n",
       "                    // IPython >= 3 moved mimebundle to data attribute of output\n",
       "                    data = data.data;\n",
       "                }\n",
       "                if (data['text/html'] === html_output) {\n",
       "                    return [cell, data, j];\n",
       "                }\n",
       "            }\n",
       "        }\n",
       "    }\n",
       "};\n",
       "\n",
       "// Register the function which deals with the matplotlib target/channel.\n",
       "// The kernel may be null if the page has been refreshed.\n",
       "if (IPython.notebook.kernel !== null) {\n",
       "    IPython.notebook.kernel.comm_manager.register_target(\n",
       "        'matplotlib',\n",
       "        mpl.mpl_figure_comm\n",
       "    );\n",
       "}\n"
      ],
      "text/plain": [
       "<IPython.core.display.Javascript object>"
      ]
     },
     "metadata": {},
     "output_type": "display_data"
    },
    {
     "data": {
      "text/html": [
       "<img src=\"data:image/png;base64,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\" width=\"1400\">"
      ],
      "text/plain": [
       "<IPython.core.display.HTML object>"
      ]
     },
     "metadata": {},
     "output_type": "display_data"
    }
   ],
   "source": [
    "from matplotlib.animation import FuncAnimation\n",
    "\n",
    "\n",
    "fig = plt.figure(figsize=(14,7))\n",
    "ax1 = plt.subplot(121)\n",
    "ax2 = plt.subplot(222)\n",
    "ax3 = plt.subplot(224)\n",
    "pi_ani = PiAnimation(ax1, ax2, ax3)\n",
    "anim = FuncAnimation(fig, pi_ani, frames=10_000, interval=50, blit=True)\n",
    "plt.show()"
   ]
  },
  {
   "cell_type": "code",
   "execution_count": null,
   "metadata": {},
   "outputs": [],
   "source": []
  }
 ],
 "metadata": {
  "kernelspec": {
   "display_name": "Python 3 (ipykernel)",
   "language": "python",
   "name": "python3"
  },
  "language_info": {
   "codemirror_mode": {
    "name": "ipython",
    "version": 3
   },
   "file_extension": ".py",
   "mimetype": "text/x-python",
   "name": "python",
   "nbconvert_exporter": "python",
   "pygments_lexer": "ipython3",
   "version": "3.8.11"
  }
 },
 "nbformat": 4,
 "nbformat_minor": 4
}
